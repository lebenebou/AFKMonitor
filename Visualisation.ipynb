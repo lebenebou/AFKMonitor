{
 "cells": [
  {
   "cell_type": "code",
   "execution_count": 46,
   "metadata": {
    "collapsed": true,
    "pycharm": {
     "name": "#%%\n"
    }
   },
   "outputs": [],
   "source": [
    "import pandas as pd\n",
    "import matplotlib.pyplot as plt\n",
    "import plotly.express as px\n",
    "import sys"
   ]
  },
  {
   "cell_type": "code",
   "execution_count": 47,
   "outputs": [],
   "source": [
    "# user_input = input(\"Enter the date in YYYY-MM-DD format: \")\n",
    "# selected_date = pd.to_datetime(user_input, format='%Y-%m-%d')\n",
    "# selected_data = data[data['time'].dt.date == selected_date.date()]"
   ],
   "metadata": {
    "collapsed": false,
    "pycharm": {
     "name": "#%%\n"
    }
   }
  },
  {
   "cell_type": "code",
   "execution_count": 48,
   "outputs": [
    {
     "data": {
      "application/vnd.plotly.v1+json": {
       "data": [
        {
         "hovertemplate": "time=%{x}<br>Battery Percentage=%{y}<extra></extra>",
         "legendgroup": "",
         "line": {
          "color": "#DCCBC3",
          "dash": "solid"
         },
         "marker": {
          "symbol": "circle"
         },
         "mode": "lines",
         "name": "",
         "orientation": "v",
         "showlegend": false,
         "x": [
          "00:03",
          "00:08",
          "00:13",
          "00:18",
          "00:23",
          "00:28",
          "00:33",
          "00:38",
          "00:43",
          "00:48",
          "00:53",
          "00:58",
          "01:03",
          "01:08",
          "01:13",
          "01:18",
          "01:23",
          "01:28",
          "01:33",
          "01:38",
          "01:43",
          "01:48",
          "01:53",
          "01:58",
          "02:03",
          "02:08",
          "02:13",
          "02:18",
          "02:23",
          "02:28",
          "02:33",
          "02:38",
          "02:43",
          "02:48",
          "02:53",
          "02:58",
          "03:03",
          "03:08",
          "03:13",
          "03:18",
          "03:23",
          "03:28",
          "03:33",
          "03:38",
          "03:43",
          "03:48",
          "03:53",
          "03:58",
          "04:03",
          "04:08",
          "04:13",
          "16:16",
          "16:17",
          "16:18",
          "16:19",
          "16:20",
          "16:21",
          "16:22",
          "16:23",
          "16:24",
          "16:25",
          "16:26",
          "16:27",
          "16:28",
          "16:29",
          "16:30",
          "16:31",
          "16:32",
          "16:33",
          "16:34",
          "16:35",
          "16:36",
          "16:37",
          "16:38",
          "16:39",
          "16:40",
          "16:41",
          "16:42",
          "16:43",
          "16:44",
          "16:45",
          "16:47",
          "16:48",
          "16:49",
          "16:50",
          "16:51",
          "16:52",
          "16:53",
          "16:54",
          "16:55",
          "16:56",
          "16:57",
          "16:58",
          "16:59",
          "17:00",
          "17:01",
          "17:02",
          "17:03",
          "17:04",
          "17:05",
          "17:06",
          "17:07",
          "17:08",
          "17:09",
          "17:10",
          "17:11",
          "17:12",
          "17:13",
          "18:20",
          "18:21",
          "18:22",
          "18:23",
          "18:24",
          "18:25",
          "18:26",
          "18:27",
          "18:28",
          "18:29",
          "18:30",
          "18:31",
          "18:32",
          "18:33",
          "18:34",
          "18:35",
          "18:36",
          "18:37",
          "18:38",
          "18:39",
          "18:40",
          "18:41",
          "18:42",
          "18:43",
          "18:44",
          "18:45",
          "18:46",
          "18:47",
          "18:48",
          "18:49",
          "18:50",
          "18:51",
          "18:52",
          "18:53",
          "18:54",
          "18:55",
          "18:56",
          "18:57",
          "18:58",
          "18:59",
          "19:00",
          "19:01",
          "19:02",
          "19:03",
          "19:04",
          "19:05",
          "19:06",
          "19:07",
          "19:08",
          "19:09",
          "19:10",
          "19:11",
          "19:12",
          "19:13",
          "19:14",
          "19:15",
          "19:16",
          "19:17",
          "19:19",
          "19:20",
          "19:21",
          "19:22",
          "19:23",
          "19:24",
          "19:25",
          "19:26",
          "19:27",
          "19:28",
          "19:29",
          "19:30",
          "19:31",
          "19:32",
          "19:33",
          "19:34",
          "19:35",
          "19:36",
          "19:37",
          "19:38",
          "19:39",
          "19:40",
          "19:41",
          "19:42",
          "19:43"
         ],
         "xaxis": "x",
         "y": [
          100,
          100,
          100,
          100,
          100,
          100,
          100,
          100,
          100,
          100,
          100,
          100,
          100,
          100,
          100,
          100,
          100,
          100,
          100,
          100,
          100,
          100,
          100,
          100,
          100,
          100,
          100,
          100,
          100,
          100,
          100,
          100,
          100,
          100,
          100,
          100,
          100,
          100,
          100,
          100,
          100,
          100,
          100,
          100,
          100,
          100,
          100,
          100,
          100,
          100,
          100,
          55,
          56,
          57,
          58,
          59,
          60,
          61,
          62,
          63,
          65,
          66,
          66,
          68,
          69,
          71,
          72,
          73,
          74,
          75,
          76,
          78,
          79,
          79,
          80,
          81,
          83,
          84,
          84,
          85,
          86,
          86,
          86,
          88,
          89,
          89,
          90,
          91,
          91,
          91,
          91,
          93,
          93,
          94,
          94,
          94,
          95,
          95,
          96,
          96,
          96,
          97,
          97,
          97,
          98,
          98,
          98,
          98,
          98,
          97,
          97,
          96,
          95,
          94,
          93,
          92,
          91,
          90,
          89,
          89,
          88,
          88,
          87,
          87,
          86,
          86,
          85,
          85,
          84,
          83,
          83,
          82,
          82,
          81,
          81,
          80,
          80,
          79,
          78,
          78,
          77,
          76,
          75,
          75,
          74,
          73,
          73,
          72,
          71,
          70,
          70,
          69,
          68,
          68,
          68,
          67,
          67,
          66,
          66,
          66,
          65,
          65,
          65,
          64,
          64,
          64,
          64,
          63,
          63,
          62,
          62,
          62,
          61,
          60,
          60,
          59,
          59,
          58,
          58,
          57,
          57,
          56,
          56,
          55,
          55,
          54,
          54,
          53,
          53,
          53,
          52
         ],
         "yaxis": "y",
         "type": "scatter"
        }
       ],
       "layout": {
        "template": {
         "data": {
          "histogram2dcontour": [
           {
            "type": "histogram2dcontour",
            "colorbar": {
             "outlinewidth": 0,
             "ticks": ""
            },
            "colorscale": [
             [
              0.0,
              "#0d0887"
             ],
             [
              0.1111111111111111,
              "#46039f"
             ],
             [
              0.2222222222222222,
              "#7201a8"
             ],
             [
              0.3333333333333333,
              "#9c179e"
             ],
             [
              0.4444444444444444,
              "#bd3786"
             ],
             [
              0.5555555555555556,
              "#d8576b"
             ],
             [
              0.6666666666666666,
              "#ed7953"
             ],
             [
              0.7777777777777778,
              "#fb9f3a"
             ],
             [
              0.8888888888888888,
              "#fdca26"
             ],
             [
              1.0,
              "#f0f921"
             ]
            ]
           }
          ],
          "choropleth": [
           {
            "type": "choropleth",
            "colorbar": {
             "outlinewidth": 0,
             "ticks": ""
            }
           }
          ],
          "histogram2d": [
           {
            "type": "histogram2d",
            "colorbar": {
             "outlinewidth": 0,
             "ticks": ""
            },
            "colorscale": [
             [
              0.0,
              "#0d0887"
             ],
             [
              0.1111111111111111,
              "#46039f"
             ],
             [
              0.2222222222222222,
              "#7201a8"
             ],
             [
              0.3333333333333333,
              "#9c179e"
             ],
             [
              0.4444444444444444,
              "#bd3786"
             ],
             [
              0.5555555555555556,
              "#d8576b"
             ],
             [
              0.6666666666666666,
              "#ed7953"
             ],
             [
              0.7777777777777778,
              "#fb9f3a"
             ],
             [
              0.8888888888888888,
              "#fdca26"
             ],
             [
              1.0,
              "#f0f921"
             ]
            ]
           }
          ],
          "heatmap": [
           {
            "type": "heatmap",
            "colorbar": {
             "outlinewidth": 0,
             "ticks": ""
            },
            "colorscale": [
             [
              0.0,
              "#0d0887"
             ],
             [
              0.1111111111111111,
              "#46039f"
             ],
             [
              0.2222222222222222,
              "#7201a8"
             ],
             [
              0.3333333333333333,
              "#9c179e"
             ],
             [
              0.4444444444444444,
              "#bd3786"
             ],
             [
              0.5555555555555556,
              "#d8576b"
             ],
             [
              0.6666666666666666,
              "#ed7953"
             ],
             [
              0.7777777777777778,
              "#fb9f3a"
             ],
             [
              0.8888888888888888,
              "#fdca26"
             ],
             [
              1.0,
              "#f0f921"
             ]
            ]
           }
          ],
          "heatmapgl": [
           {
            "type": "heatmapgl",
            "colorbar": {
             "outlinewidth": 0,
             "ticks": ""
            },
            "colorscale": [
             [
              0.0,
              "#0d0887"
             ],
             [
              0.1111111111111111,
              "#46039f"
             ],
             [
              0.2222222222222222,
              "#7201a8"
             ],
             [
              0.3333333333333333,
              "#9c179e"
             ],
             [
              0.4444444444444444,
              "#bd3786"
             ],
             [
              0.5555555555555556,
              "#d8576b"
             ],
             [
              0.6666666666666666,
              "#ed7953"
             ],
             [
              0.7777777777777778,
              "#fb9f3a"
             ],
             [
              0.8888888888888888,
              "#fdca26"
             ],
             [
              1.0,
              "#f0f921"
             ]
            ]
           }
          ],
          "contourcarpet": [
           {
            "type": "contourcarpet",
            "colorbar": {
             "outlinewidth": 0,
             "ticks": ""
            }
           }
          ],
          "contour": [
           {
            "type": "contour",
            "colorbar": {
             "outlinewidth": 0,
             "ticks": ""
            },
            "colorscale": [
             [
              0.0,
              "#0d0887"
             ],
             [
              0.1111111111111111,
              "#46039f"
             ],
             [
              0.2222222222222222,
              "#7201a8"
             ],
             [
              0.3333333333333333,
              "#9c179e"
             ],
             [
              0.4444444444444444,
              "#bd3786"
             ],
             [
              0.5555555555555556,
              "#d8576b"
             ],
             [
              0.6666666666666666,
              "#ed7953"
             ],
             [
              0.7777777777777778,
              "#fb9f3a"
             ],
             [
              0.8888888888888888,
              "#fdca26"
             ],
             [
              1.0,
              "#f0f921"
             ]
            ]
           }
          ],
          "surface": [
           {
            "type": "surface",
            "colorbar": {
             "outlinewidth": 0,
             "ticks": ""
            },
            "colorscale": [
             [
              0.0,
              "#0d0887"
             ],
             [
              0.1111111111111111,
              "#46039f"
             ],
             [
              0.2222222222222222,
              "#7201a8"
             ],
             [
              0.3333333333333333,
              "#9c179e"
             ],
             [
              0.4444444444444444,
              "#bd3786"
             ],
             [
              0.5555555555555556,
              "#d8576b"
             ],
             [
              0.6666666666666666,
              "#ed7953"
             ],
             [
              0.7777777777777778,
              "#fb9f3a"
             ],
             [
              0.8888888888888888,
              "#fdca26"
             ],
             [
              1.0,
              "#f0f921"
             ]
            ]
           }
          ],
          "mesh3d": [
           {
            "type": "mesh3d",
            "colorbar": {
             "outlinewidth": 0,
             "ticks": ""
            }
           }
          ],
          "scatter": [
           {
            "fillpattern": {
             "fillmode": "overlay",
             "size": 10,
             "solidity": 0.2
            },
            "type": "scatter"
           }
          ],
          "parcoords": [
           {
            "type": "parcoords",
            "line": {
             "colorbar": {
              "outlinewidth": 0,
              "ticks": ""
             }
            }
           }
          ],
          "scatterpolargl": [
           {
            "type": "scatterpolargl",
            "marker": {
             "colorbar": {
              "outlinewidth": 0,
              "ticks": ""
             }
            }
           }
          ],
          "bar": [
           {
            "error_x": {
             "color": "#2a3f5f"
            },
            "error_y": {
             "color": "#2a3f5f"
            },
            "marker": {
             "line": {
              "color": "#E5ECF6",
              "width": 0.5
             },
             "pattern": {
              "fillmode": "overlay",
              "size": 10,
              "solidity": 0.2
             }
            },
            "type": "bar"
           }
          ],
          "scattergeo": [
           {
            "type": "scattergeo",
            "marker": {
             "colorbar": {
              "outlinewidth": 0,
              "ticks": ""
             }
            }
           }
          ],
          "scatterpolar": [
           {
            "type": "scatterpolar",
            "marker": {
             "colorbar": {
              "outlinewidth": 0,
              "ticks": ""
             }
            }
           }
          ],
          "histogram": [
           {
            "marker": {
             "pattern": {
              "fillmode": "overlay",
              "size": 10,
              "solidity": 0.2
             }
            },
            "type": "histogram"
           }
          ],
          "scattergl": [
           {
            "type": "scattergl",
            "marker": {
             "colorbar": {
              "outlinewidth": 0,
              "ticks": ""
             }
            }
           }
          ],
          "scatter3d": [
           {
            "type": "scatter3d",
            "line": {
             "colorbar": {
              "outlinewidth": 0,
              "ticks": ""
             }
            },
            "marker": {
             "colorbar": {
              "outlinewidth": 0,
              "ticks": ""
             }
            }
           }
          ],
          "scattermapbox": [
           {
            "type": "scattermapbox",
            "marker": {
             "colorbar": {
              "outlinewidth": 0,
              "ticks": ""
             }
            }
           }
          ],
          "scatterternary": [
           {
            "type": "scatterternary",
            "marker": {
             "colorbar": {
              "outlinewidth": 0,
              "ticks": ""
             }
            }
           }
          ],
          "scattercarpet": [
           {
            "type": "scattercarpet",
            "marker": {
             "colorbar": {
              "outlinewidth": 0,
              "ticks": ""
             }
            }
           }
          ],
          "carpet": [
           {
            "aaxis": {
             "endlinecolor": "#2a3f5f",
             "gridcolor": "white",
             "linecolor": "white",
             "minorgridcolor": "white",
             "startlinecolor": "#2a3f5f"
            },
            "baxis": {
             "endlinecolor": "#2a3f5f",
             "gridcolor": "white",
             "linecolor": "white",
             "minorgridcolor": "white",
             "startlinecolor": "#2a3f5f"
            },
            "type": "carpet"
           }
          ],
          "table": [
           {
            "cells": {
             "fill": {
              "color": "#EBF0F8"
             },
             "line": {
              "color": "white"
             }
            },
            "header": {
             "fill": {
              "color": "#C8D4E3"
             },
             "line": {
              "color": "white"
             }
            },
            "type": "table"
           }
          ],
          "barpolar": [
           {
            "marker": {
             "line": {
              "color": "#E5ECF6",
              "width": 0.5
             },
             "pattern": {
              "fillmode": "overlay",
              "size": 10,
              "solidity": 0.2
             }
            },
            "type": "barpolar"
           }
          ],
          "pie": [
           {
            "automargin": true,
            "type": "pie"
           }
          ]
         },
         "layout": {
          "autotypenumbers": "strict",
          "colorway": [
           "#636efa",
           "#EF553B",
           "#00cc96",
           "#ab63fa",
           "#FFA15A",
           "#19d3f3",
           "#FF6692",
           "#B6E880",
           "#FF97FF",
           "#FECB52"
          ],
          "font": {
           "color": "#2a3f5f"
          },
          "hovermode": "closest",
          "hoverlabel": {
           "align": "left"
          },
          "paper_bgcolor": "white",
          "plot_bgcolor": "#E5ECF6",
          "polar": {
           "bgcolor": "#E5ECF6",
           "angularaxis": {
            "gridcolor": "white",
            "linecolor": "white",
            "ticks": ""
           },
           "radialaxis": {
            "gridcolor": "white",
            "linecolor": "white",
            "ticks": ""
           }
          },
          "ternary": {
           "bgcolor": "#E5ECF6",
           "aaxis": {
            "gridcolor": "white",
            "linecolor": "white",
            "ticks": ""
           },
           "baxis": {
            "gridcolor": "white",
            "linecolor": "white",
            "ticks": ""
           },
           "caxis": {
            "gridcolor": "white",
            "linecolor": "white",
            "ticks": ""
           }
          },
          "coloraxis": {
           "colorbar": {
            "outlinewidth": 0,
            "ticks": ""
           }
          },
          "colorscale": {
           "sequential": [
            [
             0.0,
             "#0d0887"
            ],
            [
             0.1111111111111111,
             "#46039f"
            ],
            [
             0.2222222222222222,
             "#7201a8"
            ],
            [
             0.3333333333333333,
             "#9c179e"
            ],
            [
             0.4444444444444444,
             "#bd3786"
            ],
            [
             0.5555555555555556,
             "#d8576b"
            ],
            [
             0.6666666666666666,
             "#ed7953"
            ],
            [
             0.7777777777777778,
             "#fb9f3a"
            ],
            [
             0.8888888888888888,
             "#fdca26"
            ],
            [
             1.0,
             "#f0f921"
            ]
           ],
           "sequentialminus": [
            [
             0.0,
             "#0d0887"
            ],
            [
             0.1111111111111111,
             "#46039f"
            ],
            [
             0.2222222222222222,
             "#7201a8"
            ],
            [
             0.3333333333333333,
             "#9c179e"
            ],
            [
             0.4444444444444444,
             "#bd3786"
            ],
            [
             0.5555555555555556,
             "#d8576b"
            ],
            [
             0.6666666666666666,
             "#ed7953"
            ],
            [
             0.7777777777777778,
             "#fb9f3a"
            ],
            [
             0.8888888888888888,
             "#fdca26"
            ],
            [
             1.0,
             "#f0f921"
            ]
           ],
           "diverging": [
            [
             0,
             "#8e0152"
            ],
            [
             0.1,
             "#c51b7d"
            ],
            [
             0.2,
             "#de77ae"
            ],
            [
             0.3,
             "#f1b6da"
            ],
            [
             0.4,
             "#fde0ef"
            ],
            [
             0.5,
             "#f7f7f7"
            ],
            [
             0.6,
             "#e6f5d0"
            ],
            [
             0.7,
             "#b8e186"
            ],
            [
             0.8,
             "#7fbc41"
            ],
            [
             0.9,
             "#4d9221"
            ],
            [
             1,
             "#276419"
            ]
           ]
          },
          "xaxis": {
           "gridcolor": "white",
           "linecolor": "white",
           "ticks": "",
           "title": {
            "standoff": 15
           },
           "zerolinecolor": "white",
           "automargin": true,
           "zerolinewidth": 2
          },
          "yaxis": {
           "gridcolor": "white",
           "linecolor": "white",
           "ticks": "",
           "title": {
            "standoff": 15
           },
           "zerolinecolor": "white",
           "automargin": true,
           "zerolinewidth": 2
          },
          "scene": {
           "xaxis": {
            "backgroundcolor": "#E5ECF6",
            "gridcolor": "white",
            "linecolor": "white",
            "showbackground": true,
            "ticks": "",
            "zerolinecolor": "white",
            "gridwidth": 2
           },
           "yaxis": {
            "backgroundcolor": "#E5ECF6",
            "gridcolor": "white",
            "linecolor": "white",
            "showbackground": true,
            "ticks": "",
            "zerolinecolor": "white",
            "gridwidth": 2
           },
           "zaxis": {
            "backgroundcolor": "#E5ECF6",
            "gridcolor": "white",
            "linecolor": "white",
            "showbackground": true,
            "ticks": "",
            "zerolinecolor": "white",
            "gridwidth": 2
           }
          },
          "shapedefaults": {
           "line": {
            "color": "#2a3f5f"
           }
          },
          "annotationdefaults": {
           "arrowcolor": "#2a3f5f",
           "arrowhead": 0,
           "arrowwidth": 1
          },
          "geo": {
           "bgcolor": "white",
           "landcolor": "#E5ECF6",
           "subunitcolor": "white",
           "showland": true,
           "showlakes": true,
           "lakecolor": "white"
          },
          "title": {
           "x": 0.05
          },
          "mapbox": {
           "style": "light"
          }
         }
        },
        "xaxis": {
         "anchor": "y",
         "domain": [
          0.0,
          1.0
         ],
         "title": {
          "text": "Time"
         },
         "tickvals": [
          "00:03",
          "00:48",
          "01:33",
          "02:18",
          "03:03",
          "03:48",
          "16:19",
          "16:28",
          "16:37",
          "16:47",
          "16:56",
          "17:05",
          "18:20",
          "18:29",
          "18:38",
          "18:47",
          "18:56",
          "19:05",
          "19:14",
          "19:24",
          "19:33",
          "19:42"
         ],
         "ticktext": [
          "00:03",
          "00:48",
          "01:33",
          "02:18",
          "03:03",
          "03:48",
          "16:19",
          "16:28",
          "16:37",
          "16:47",
          "16:56",
          "17:05",
          "18:20",
          "18:29",
          "18:38",
          "18:47",
          "18:56",
          "19:05",
          "19:14",
          "19:24",
          "19:33",
          "19:42"
         ]
        },
        "yaxis": {
         "anchor": "x",
         "domain": [
          0.0,
          1.0
         ],
         "title": {
          "text": "Battery Percentage"
         }
        },
        "legend": {
         "tracegroupgap": 0
        },
        "margin": {
         "t": 60
        },
        "title": {
         "text": "Battery Percentage on 2023-11-14"
        },
        "plot_bgcolor": "#FEF9FF"
       },
       "config": {
        "plotlyServerURL": "https://plot.ly"
       }
      },
      "text/html": "<div>                            <div id=\"5407efb4-ae39-4f57-97a7-7efc1d7e17a7\" class=\"plotly-graph-div\" style=\"height:525px; width:100%;\"></div>            <script type=\"text/javascript\">                require([\"plotly\"], function(Plotly) {                    window.PLOTLYENV=window.PLOTLYENV || {};                                    if (document.getElementById(\"5407efb4-ae39-4f57-97a7-7efc1d7e17a7\")) {                    Plotly.newPlot(                        \"5407efb4-ae39-4f57-97a7-7efc1d7e17a7\",                        [{\"hovertemplate\":\"time=%{x}\\u003cbr\\u003eBattery Percentage=%{y}\\u003cextra\\u003e\\u003c\\u002fextra\\u003e\",\"legendgroup\":\"\",\"line\":{\"color\":\"#DCCBC3\",\"dash\":\"solid\"},\"marker\":{\"symbol\":\"circle\"},\"mode\":\"lines\",\"name\":\"\",\"orientation\":\"v\",\"showlegend\":false,\"x\":[\"00:03\",\"00:08\",\"00:13\",\"00:18\",\"00:23\",\"00:28\",\"00:33\",\"00:38\",\"00:43\",\"00:48\",\"00:53\",\"00:58\",\"01:03\",\"01:08\",\"01:13\",\"01:18\",\"01:23\",\"01:28\",\"01:33\",\"01:38\",\"01:43\",\"01:48\",\"01:53\",\"01:58\",\"02:03\",\"02:08\",\"02:13\",\"02:18\",\"02:23\",\"02:28\",\"02:33\",\"02:38\",\"02:43\",\"02:48\",\"02:53\",\"02:58\",\"03:03\",\"03:08\",\"03:13\",\"03:18\",\"03:23\",\"03:28\",\"03:33\",\"03:38\",\"03:43\",\"03:48\",\"03:53\",\"03:58\",\"04:03\",\"04:08\",\"04:13\",\"16:16\",\"16:17\",\"16:18\",\"16:19\",\"16:20\",\"16:21\",\"16:22\",\"16:23\",\"16:24\",\"16:25\",\"16:26\",\"16:27\",\"16:28\",\"16:29\",\"16:30\",\"16:31\",\"16:32\",\"16:33\",\"16:34\",\"16:35\",\"16:36\",\"16:37\",\"16:38\",\"16:39\",\"16:40\",\"16:41\",\"16:42\",\"16:43\",\"16:44\",\"16:45\",\"16:47\",\"16:48\",\"16:49\",\"16:50\",\"16:51\",\"16:52\",\"16:53\",\"16:54\",\"16:55\",\"16:56\",\"16:57\",\"16:58\",\"16:59\",\"17:00\",\"17:01\",\"17:02\",\"17:03\",\"17:04\",\"17:05\",\"17:06\",\"17:07\",\"17:08\",\"17:09\",\"17:10\",\"17:11\",\"17:12\",\"17:13\",\"18:20\",\"18:21\",\"18:22\",\"18:23\",\"18:24\",\"18:25\",\"18:26\",\"18:27\",\"18:28\",\"18:29\",\"18:30\",\"18:31\",\"18:32\",\"18:33\",\"18:34\",\"18:35\",\"18:36\",\"18:37\",\"18:38\",\"18:39\",\"18:40\",\"18:41\",\"18:42\",\"18:43\",\"18:44\",\"18:45\",\"18:46\",\"18:47\",\"18:48\",\"18:49\",\"18:50\",\"18:51\",\"18:52\",\"18:53\",\"18:54\",\"18:55\",\"18:56\",\"18:57\",\"18:58\",\"18:59\",\"19:00\",\"19:01\",\"19:02\",\"19:03\",\"19:04\",\"19:05\",\"19:06\",\"19:07\",\"19:08\",\"19:09\",\"19:10\",\"19:11\",\"19:12\",\"19:13\",\"19:14\",\"19:15\",\"19:16\",\"19:17\",\"19:19\",\"19:20\",\"19:21\",\"19:22\",\"19:23\",\"19:24\",\"19:25\",\"19:26\",\"19:27\",\"19:28\",\"19:29\",\"19:30\",\"19:31\",\"19:32\",\"19:33\",\"19:34\",\"19:35\",\"19:36\",\"19:37\",\"19:38\",\"19:39\",\"19:40\",\"19:41\",\"19:42\",\"19:43\"],\"xaxis\":\"x\",\"y\":[100,100,100,100,100,100,100,100,100,100,100,100,100,100,100,100,100,100,100,100,100,100,100,100,100,100,100,100,100,100,100,100,100,100,100,100,100,100,100,100,100,100,100,100,100,100,100,100,100,100,100,55,56,57,58,59,60,61,62,63,65,66,66,68,69,71,72,73,74,75,76,78,79,79,80,81,83,84,84,85,86,86,86,88,89,89,90,91,91,91,91,93,93,94,94,94,95,95,96,96,96,97,97,97,98,98,98,98,98,97,97,96,95,94,93,92,91,90,89,89,88,88,87,87,86,86,85,85,84,83,83,82,82,81,81,80,80,79,78,78,77,76,75,75,74,73,73,72,71,70,70,69,68,68,68,67,67,66,66,66,65,65,65,64,64,64,64,63,63,62,62,62,61,60,60,59,59,58,58,57,57,56,56,55,55,54,54,53,53,53,52],\"yaxis\":\"y\",\"type\":\"scatter\"}],                        {\"template\":{\"data\":{\"histogram2dcontour\":[{\"type\":\"histogram2dcontour\",\"colorbar\":{\"outlinewidth\":0,\"ticks\":\"\"},\"colorscale\":[[0.0,\"#0d0887\"],[0.1111111111111111,\"#46039f\"],[0.2222222222222222,\"#7201a8\"],[0.3333333333333333,\"#9c179e\"],[0.4444444444444444,\"#bd3786\"],[0.5555555555555556,\"#d8576b\"],[0.6666666666666666,\"#ed7953\"],[0.7777777777777778,\"#fb9f3a\"],[0.8888888888888888,\"#fdca26\"],[1.0,\"#f0f921\"]]}],\"choropleth\":[{\"type\":\"choropleth\",\"colorbar\":{\"outlinewidth\":0,\"ticks\":\"\"}}],\"histogram2d\":[{\"type\":\"histogram2d\",\"colorbar\":{\"outlinewidth\":0,\"ticks\":\"\"},\"colorscale\":[[0.0,\"#0d0887\"],[0.1111111111111111,\"#46039f\"],[0.2222222222222222,\"#7201a8\"],[0.3333333333333333,\"#9c179e\"],[0.4444444444444444,\"#bd3786\"],[0.5555555555555556,\"#d8576b\"],[0.6666666666666666,\"#ed7953\"],[0.7777777777777778,\"#fb9f3a\"],[0.8888888888888888,\"#fdca26\"],[1.0,\"#f0f921\"]]}],\"heatmap\":[{\"type\":\"heatmap\",\"colorbar\":{\"outlinewidth\":0,\"ticks\":\"\"},\"colorscale\":[[0.0,\"#0d0887\"],[0.1111111111111111,\"#46039f\"],[0.2222222222222222,\"#7201a8\"],[0.3333333333333333,\"#9c179e\"],[0.4444444444444444,\"#bd3786\"],[0.5555555555555556,\"#d8576b\"],[0.6666666666666666,\"#ed7953\"],[0.7777777777777778,\"#fb9f3a\"],[0.8888888888888888,\"#fdca26\"],[1.0,\"#f0f921\"]]}],\"heatmapgl\":[{\"type\":\"heatmapgl\",\"colorbar\":{\"outlinewidth\":0,\"ticks\":\"\"},\"colorscale\":[[0.0,\"#0d0887\"],[0.1111111111111111,\"#46039f\"],[0.2222222222222222,\"#7201a8\"],[0.3333333333333333,\"#9c179e\"],[0.4444444444444444,\"#bd3786\"],[0.5555555555555556,\"#d8576b\"],[0.6666666666666666,\"#ed7953\"],[0.7777777777777778,\"#fb9f3a\"],[0.8888888888888888,\"#fdca26\"],[1.0,\"#f0f921\"]]}],\"contourcarpet\":[{\"type\":\"contourcarpet\",\"colorbar\":{\"outlinewidth\":0,\"ticks\":\"\"}}],\"contour\":[{\"type\":\"contour\",\"colorbar\":{\"outlinewidth\":0,\"ticks\":\"\"},\"colorscale\":[[0.0,\"#0d0887\"],[0.1111111111111111,\"#46039f\"],[0.2222222222222222,\"#7201a8\"],[0.3333333333333333,\"#9c179e\"],[0.4444444444444444,\"#bd3786\"],[0.5555555555555556,\"#d8576b\"],[0.6666666666666666,\"#ed7953\"],[0.7777777777777778,\"#fb9f3a\"],[0.8888888888888888,\"#fdca26\"],[1.0,\"#f0f921\"]]}],\"surface\":[{\"type\":\"surface\",\"colorbar\":{\"outlinewidth\":0,\"ticks\":\"\"},\"colorscale\":[[0.0,\"#0d0887\"],[0.1111111111111111,\"#46039f\"],[0.2222222222222222,\"#7201a8\"],[0.3333333333333333,\"#9c179e\"],[0.4444444444444444,\"#bd3786\"],[0.5555555555555556,\"#d8576b\"],[0.6666666666666666,\"#ed7953\"],[0.7777777777777778,\"#fb9f3a\"],[0.8888888888888888,\"#fdca26\"],[1.0,\"#f0f921\"]]}],\"mesh3d\":[{\"type\":\"mesh3d\",\"colorbar\":{\"outlinewidth\":0,\"ticks\":\"\"}}],\"scatter\":[{\"fillpattern\":{\"fillmode\":\"overlay\",\"size\":10,\"solidity\":0.2},\"type\":\"scatter\"}],\"parcoords\":[{\"type\":\"parcoords\",\"line\":{\"colorbar\":{\"outlinewidth\":0,\"ticks\":\"\"}}}],\"scatterpolargl\":[{\"type\":\"scatterpolargl\",\"marker\":{\"colorbar\":{\"outlinewidth\":0,\"ticks\":\"\"}}}],\"bar\":[{\"error_x\":{\"color\":\"#2a3f5f\"},\"error_y\":{\"color\":\"#2a3f5f\"},\"marker\":{\"line\":{\"color\":\"#E5ECF6\",\"width\":0.5},\"pattern\":{\"fillmode\":\"overlay\",\"size\":10,\"solidity\":0.2}},\"type\":\"bar\"}],\"scattergeo\":[{\"type\":\"scattergeo\",\"marker\":{\"colorbar\":{\"outlinewidth\":0,\"ticks\":\"\"}}}],\"scatterpolar\":[{\"type\":\"scatterpolar\",\"marker\":{\"colorbar\":{\"outlinewidth\":0,\"ticks\":\"\"}}}],\"histogram\":[{\"marker\":{\"pattern\":{\"fillmode\":\"overlay\",\"size\":10,\"solidity\":0.2}},\"type\":\"histogram\"}],\"scattergl\":[{\"type\":\"scattergl\",\"marker\":{\"colorbar\":{\"outlinewidth\":0,\"ticks\":\"\"}}}],\"scatter3d\":[{\"type\":\"scatter3d\",\"line\":{\"colorbar\":{\"outlinewidth\":0,\"ticks\":\"\"}},\"marker\":{\"colorbar\":{\"outlinewidth\":0,\"ticks\":\"\"}}}],\"scattermapbox\":[{\"type\":\"scattermapbox\",\"marker\":{\"colorbar\":{\"outlinewidth\":0,\"ticks\":\"\"}}}],\"scatterternary\":[{\"type\":\"scatterternary\",\"marker\":{\"colorbar\":{\"outlinewidth\":0,\"ticks\":\"\"}}}],\"scattercarpet\":[{\"type\":\"scattercarpet\",\"marker\":{\"colorbar\":{\"outlinewidth\":0,\"ticks\":\"\"}}}],\"carpet\":[{\"aaxis\":{\"endlinecolor\":\"#2a3f5f\",\"gridcolor\":\"white\",\"linecolor\":\"white\",\"minorgridcolor\":\"white\",\"startlinecolor\":\"#2a3f5f\"},\"baxis\":{\"endlinecolor\":\"#2a3f5f\",\"gridcolor\":\"white\",\"linecolor\":\"white\",\"minorgridcolor\":\"white\",\"startlinecolor\":\"#2a3f5f\"},\"type\":\"carpet\"}],\"table\":[{\"cells\":{\"fill\":{\"color\":\"#EBF0F8\"},\"line\":{\"color\":\"white\"}},\"header\":{\"fill\":{\"color\":\"#C8D4E3\"},\"line\":{\"color\":\"white\"}},\"type\":\"table\"}],\"barpolar\":[{\"marker\":{\"line\":{\"color\":\"#E5ECF6\",\"width\":0.5},\"pattern\":{\"fillmode\":\"overlay\",\"size\":10,\"solidity\":0.2}},\"type\":\"barpolar\"}],\"pie\":[{\"automargin\":true,\"type\":\"pie\"}]},\"layout\":{\"autotypenumbers\":\"strict\",\"colorway\":[\"#636efa\",\"#EF553B\",\"#00cc96\",\"#ab63fa\",\"#FFA15A\",\"#19d3f3\",\"#FF6692\",\"#B6E880\",\"#FF97FF\",\"#FECB52\"],\"font\":{\"color\":\"#2a3f5f\"},\"hovermode\":\"closest\",\"hoverlabel\":{\"align\":\"left\"},\"paper_bgcolor\":\"white\",\"plot_bgcolor\":\"#E5ECF6\",\"polar\":{\"bgcolor\":\"#E5ECF6\",\"angularaxis\":{\"gridcolor\":\"white\",\"linecolor\":\"white\",\"ticks\":\"\"},\"radialaxis\":{\"gridcolor\":\"white\",\"linecolor\":\"white\",\"ticks\":\"\"}},\"ternary\":{\"bgcolor\":\"#E5ECF6\",\"aaxis\":{\"gridcolor\":\"white\",\"linecolor\":\"white\",\"ticks\":\"\"},\"baxis\":{\"gridcolor\":\"white\",\"linecolor\":\"white\",\"ticks\":\"\"},\"caxis\":{\"gridcolor\":\"white\",\"linecolor\":\"white\",\"ticks\":\"\"}},\"coloraxis\":{\"colorbar\":{\"outlinewidth\":0,\"ticks\":\"\"}},\"colorscale\":{\"sequential\":[[0.0,\"#0d0887\"],[0.1111111111111111,\"#46039f\"],[0.2222222222222222,\"#7201a8\"],[0.3333333333333333,\"#9c179e\"],[0.4444444444444444,\"#bd3786\"],[0.5555555555555556,\"#d8576b\"],[0.6666666666666666,\"#ed7953\"],[0.7777777777777778,\"#fb9f3a\"],[0.8888888888888888,\"#fdca26\"],[1.0,\"#f0f921\"]],\"sequentialminus\":[[0.0,\"#0d0887\"],[0.1111111111111111,\"#46039f\"],[0.2222222222222222,\"#7201a8\"],[0.3333333333333333,\"#9c179e\"],[0.4444444444444444,\"#bd3786\"],[0.5555555555555556,\"#d8576b\"],[0.6666666666666666,\"#ed7953\"],[0.7777777777777778,\"#fb9f3a\"],[0.8888888888888888,\"#fdca26\"],[1.0,\"#f0f921\"]],\"diverging\":[[0,\"#8e0152\"],[0.1,\"#c51b7d\"],[0.2,\"#de77ae\"],[0.3,\"#f1b6da\"],[0.4,\"#fde0ef\"],[0.5,\"#f7f7f7\"],[0.6,\"#e6f5d0\"],[0.7,\"#b8e186\"],[0.8,\"#7fbc41\"],[0.9,\"#4d9221\"],[1,\"#276419\"]]},\"xaxis\":{\"gridcolor\":\"white\",\"linecolor\":\"white\",\"ticks\":\"\",\"title\":{\"standoff\":15},\"zerolinecolor\":\"white\",\"automargin\":true,\"zerolinewidth\":2},\"yaxis\":{\"gridcolor\":\"white\",\"linecolor\":\"white\",\"ticks\":\"\",\"title\":{\"standoff\":15},\"zerolinecolor\":\"white\",\"automargin\":true,\"zerolinewidth\":2},\"scene\":{\"xaxis\":{\"backgroundcolor\":\"#E5ECF6\",\"gridcolor\":\"white\",\"linecolor\":\"white\",\"showbackground\":true,\"ticks\":\"\",\"zerolinecolor\":\"white\",\"gridwidth\":2},\"yaxis\":{\"backgroundcolor\":\"#E5ECF6\",\"gridcolor\":\"white\",\"linecolor\":\"white\",\"showbackground\":true,\"ticks\":\"\",\"zerolinecolor\":\"white\",\"gridwidth\":2},\"zaxis\":{\"backgroundcolor\":\"#E5ECF6\",\"gridcolor\":\"white\",\"linecolor\":\"white\",\"showbackground\":true,\"ticks\":\"\",\"zerolinecolor\":\"white\",\"gridwidth\":2}},\"shapedefaults\":{\"line\":{\"color\":\"#2a3f5f\"}},\"annotationdefaults\":{\"arrowcolor\":\"#2a3f5f\",\"arrowhead\":0,\"arrowwidth\":1},\"geo\":{\"bgcolor\":\"white\",\"landcolor\":\"#E5ECF6\",\"subunitcolor\":\"white\",\"showland\":true,\"showlakes\":true,\"lakecolor\":\"white\"},\"title\":{\"x\":0.05},\"mapbox\":{\"style\":\"light\"}}},\"xaxis\":{\"anchor\":\"y\",\"domain\":[0.0,1.0],\"title\":{\"text\":\"Time\"},\"tickvals\":[\"00:03\",\"00:48\",\"01:33\",\"02:18\",\"03:03\",\"03:48\",\"16:19\",\"16:28\",\"16:37\",\"16:47\",\"16:56\",\"17:05\",\"18:20\",\"18:29\",\"18:38\",\"18:47\",\"18:56\",\"19:05\",\"19:14\",\"19:24\",\"19:33\",\"19:42\"],\"ticktext\":[\"00:03\",\"00:48\",\"01:33\",\"02:18\",\"03:03\",\"03:48\",\"16:19\",\"16:28\",\"16:37\",\"16:47\",\"16:56\",\"17:05\",\"18:20\",\"18:29\",\"18:38\",\"18:47\",\"18:56\",\"19:05\",\"19:14\",\"19:24\",\"19:33\",\"19:42\"]},\"yaxis\":{\"anchor\":\"x\",\"domain\":[0.0,1.0],\"title\":{\"text\":\"Battery Percentage\"}},\"legend\":{\"tracegroupgap\":0},\"margin\":{\"t\":60},\"title\":{\"text\":\"Battery Percentage on 2023-11-14\"},\"plot_bgcolor\":\"#FEF9FF\"},                        {\"responsive\": true}                    ).then(function(){\n                            \nvar gd = document.getElementById('5407efb4-ae39-4f57-97a7-7efc1d7e17a7');\nvar x = new MutationObserver(function (mutations, observer) {{\n        var display = window.getComputedStyle(gd).display;\n        if (!display || display === 'none') {{\n            console.log([gd, 'removed!']);\n            Plotly.purge(gd);\n            observer.disconnect();\n        }}\n}});\n\n// Listen for the removal of the full notebook cells\nvar notebookContainer = gd.closest('#notebook-container');\nif (notebookContainer) {{\n    x.observe(notebookContainer, {childList: true});\n}}\n\n// Listen for the clearing of the current output cell\nvar outputEl = gd.closest('.output');\nif (outputEl) {{\n    x.observe(outputEl, {childList: true});\n}}\n\n                        })                };                });            </script>        </div>"
     },
     "metadata": {},
     "output_type": "display_data"
    },
    {
     "data": {
      "application/vnd.plotly.v1+json": {
       "data": [
        {
         "alignmentgroup": "True",
         "hovertemplate": "hungriestProc=%{x}<br>Memory Usage (MB)=%{y}<extra></extra>",
         "legendgroup": "",
         "marker": {
          "color": "#736CED",
          "pattern": {
           "shape": ""
          }
         },
         "name": "",
         "offsetgroup": "",
         "orientation": "v",
         "showlegend": false,
         "textposition": "auto",
         "x": [
          "pycharm64.exe",
          "pycharm64.exe",
          "pycharm64.exe",
          "pycharm64.exe",
          "pycharm64.exe",
          "pycharm64.exe",
          "pycharm64.exe",
          "pycharm64.exe",
          "pycharm64.exe",
          "pycharm64.exe",
          "pycharm64.exe",
          "chrome.exe",
          "pycharm64.exe",
          "pycharm64.exe",
          "pycharm64.exe",
          "chrome.exe",
          "pycharm64.exe",
          "pycharm64.exe",
          "chrome.exe",
          "pycharm64.exe",
          "pycharm64.exe",
          "chrome.exe",
          "chrome.exe",
          "pycharm64.exe",
          "pycharm64.exe",
          "pycharm64.exe",
          "pycharm64.exe",
          "pycharm64.exe",
          "pycharm64.exe",
          "pycharm64.exe",
          "pycharm64.exe",
          "pycharm64.exe",
          "pycharm64.exe",
          "pycharm64.exe",
          "pycharm64.exe",
          "pycharm64.exe",
          "pycharm64.exe",
          "pycharm64.exe",
          "pycharm64.exe",
          "pycharm64.exe",
          "pycharm64.exe",
          "pycharm64.exe",
          "pycharm64.exe",
          "pycharm64.exe",
          "pycharm64.exe",
          "pycharm64.exe",
          "pycharm64.exe",
          "pycharm64.exe",
          "pycharm64.exe",
          "pycharm64.exe",
          "pycharm64.exe",
          "pycharm64.exe",
          "pycharm64.exe",
          "pycharm64.exe",
          "pycharm64.exe",
          "pycharm64.exe",
          "pycharm64.exe",
          "pycharm64.exe",
          "pycharm64.exe",
          "pycharm64.exe",
          "pycharm64.exe",
          "pycharm64.exe",
          "pycharm64.exe",
          "pycharm64.exe",
          "pycharm64.exe",
          "pycharm64.exe",
          "pycharm64.exe",
          "pycharm64.exe",
          "pycharm64.exe",
          "pycharm64.exe",
          "pycharm64.exe",
          "pycharm64.exe",
          "pycharm64.exe",
          "pycharm64.exe",
          "pycharm64.exe",
          "pycharm64.exe",
          "pycharm64.exe",
          "pycharm64.exe",
          "pycharm64.exe",
          "pycharm64.exe",
          "pycharm64.exe",
          "pycharm64.exe",
          "pycharm64.exe",
          "pycharm64.exe",
          "pycharm64.exe",
          "pycharm64.exe",
          "pycharm64.exe",
          "pycharm64.exe",
          "pycharm64.exe",
          "pycharm64.exe",
          "pycharm64.exe",
          "pycharm64.exe",
          "pycharm64.exe",
          "pycharm64.exe",
          "pycharm64.exe",
          "pycharm64.exe",
          "pycharm64.exe",
          "pycharm64.exe",
          "pycharm64.exe",
          "pycharm64.exe",
          "pycharm64.exe",
          "pycharm64.exe",
          "pycharm64.exe",
          "pycharm64.exe",
          "pycharm64.exe",
          "pycharm64.exe",
          "pycharm64.exe",
          "pycharm64.exe",
          "pycharm64.exe",
          "pycharm64.exe",
          "pycharm64.exe",
          "pycharm64.exe",
          "pycharm64.exe",
          "pycharm64.exe",
          "pycharm64.exe",
          "pycharm64.exe",
          "pycharm64.exe",
          "pycharm64.exe",
          "pycharm64.exe",
          "pycharm64.exe",
          "pycharm64.exe",
          "pycharm64.exe",
          "pycharm64.exe",
          "pycharm64.exe",
          "pycharm64.exe",
          "pycharm64.exe",
          "pycharm64.exe",
          "pycharm64.exe",
          "pycharm64.exe",
          "pycharm64.exe",
          "pycharm64.exe",
          "pycharm64.exe",
          "pycharm64.exe",
          "pycharm64.exe",
          "pycharm64.exe",
          "pycharm64.exe",
          "pycharm64.exe",
          "pycharm64.exe",
          "pycharm64.exe",
          "pycharm64.exe",
          "svchost.exe",
          "svchost.exe",
          "svchost.exe",
          "svchost.exe",
          "svchost.exe",
          "svchost.exe",
          "svchost.exe",
          "svchost.exe",
          "svchost.exe",
          "svchost.exe",
          "svchost.exe",
          "svchost.exe",
          "svchost.exe",
          "svchost.exe",
          "svchost.exe",
          "svchost.exe",
          "svchost.exe",
          "svchost.exe",
          "svchost.exe",
          "svchost.exe",
          "svchost.exe",
          "svchost.exe",
          "svchost.exe",
          "svchost.exe",
          "svchost.exe",
          "svchost.exe",
          "svchost.exe",
          "svchost.exe",
          "svchost.exe",
          "svchost.exe",
          "svchost.exe",
          "svchost.exe",
          "svchost.exe",
          "svchost.exe",
          "svchost.exe",
          "svchost.exe",
          "svchost.exe",
          "svchost.exe",
          "svchost.exe",
          "svchost.exe",
          "svchost.exe",
          "svchost.exe",
          "svchost.exe",
          "svchost.exe",
          "svchost.exe",
          "svchost.exe",
          "svchost.exe",
          "svchost.exe",
          "svchost.exe",
          "svchost.exe",
          "svchost.exe"
         ],
         "xaxis": "x",
         "y": [
          2393.59,
          2397.08,
          2396.91,
          2393.74,
          2393.84,
          2393.69,
          2393.76,
          2389.13,
          2397.7,
          2389.04,
          2375.85,
          2193.87,
          2393.32,
          2394.6,
          2389.03,
          2217.77,
          2060.54,
          2208.37,
          2198.24,
          2462.76,
          2061.86,
          2160.72,
          2120.75,
          2187.49,
          2491.82,
          2208.9,
          2208.59,
          2061.28,
          2059.9,
          2491.06,
          2066.02,
          2385.25,
          2112.06,
          2493.53,
          2112.04,
          2489.26,
          2209.42,
          2489.38,
          2491.07,
          2493.56,
          2490.82,
          2491.0,
          2489.43,
          2489.36,
          2489.56,
          2491.14,
          2487.98,
          2407.28,
          2187.72,
          2361.33,
          2406.15,
          2146.28,
          2146.33,
          2146.19,
          2460.14,
          2216.87,
          2219.7,
          2335.61,
          2494.72,
          2187.21,
          2209.94,
          2233.92,
          2495.46,
          2187.9,
          2595.66,
          2494.21,
          2451.56,
          2576.8,
          2471.94,
          2404.18,
          2581.08,
          2573.0,
          2575.51,
          2569.33,
          2029.97,
          2579.81,
          2407.92,
          2578.64,
          2490.29,
          2586.76,
          2504.64,
          2592.28,
          2573.84,
          2578.71,
          2572.84,
          2568.03,
          2504.8,
          2394.21,
          2029.73,
          2504.91,
          2504.73,
          2180.74,
          2581.58,
          2245.98,
          2366.64,
          2243.04,
          2582.42,
          2407.99,
          2509.25,
          2577.98,
          2172.99,
          2233.41,
          2072.83,
          2162.77,
          2392.37,
          2386.07,
          2160.12,
          2166.58,
          2225.42,
          2232.91,
          2232.96,
          2232.07,
          2227.02,
          2068.16,
          2228.37,
          2229.5,
          2140.23,
          2389.04,
          2095.88,
          2220.73,
          2169.72,
          2222.73,
          2077.31,
          2228.12,
          2228.61,
          2253.87,
          2227.4,
          2228.3,
          2226.95,
          2226.69,
          2228.32,
          2272.69,
          2067.47,
          2283.28,
          2302.15,
          2250.91,
          2251.48,
          2252.66,
          2277.25,
          2277.21,
          1265.58,
          1271.81,
          1247.89,
          1250.8,
          1233.18,
          1235.36,
          1229.7,
          1290.42,
          1227.8,
          1222.57,
          1229.22,
          1247.72,
          1209.82,
          1209.71,
          1209.45,
          1209.73,
          1209.18,
          1208.95,
          1209.76,
          1244.95,
          1216.0,
          1215.67,
          1254.39,
          1208.45,
          1219.06,
          1209.48,
          1209.44,
          1217.34,
          1217.36,
          1218.18,
          1208.24,
          1208.96,
          1219.27,
          1208.08,
          1207.03,
          1207.09,
          1208.15,
          1227.07,
          1205.79,
          1206.2,
          1206.5,
          1205.34,
          1206.42,
          1206.03,
          1205.23,
          1206.54,
          1206.56,
          1209.87,
          1210.25,
          1206.27,
          1208.19
         ],
         "yaxis": "y",
         "type": "bar"
        }
       ],
       "layout": {
        "template": {
         "data": {
          "histogram2dcontour": [
           {
            "type": "histogram2dcontour",
            "colorbar": {
             "outlinewidth": 0,
             "ticks": ""
            },
            "colorscale": [
             [
              0.0,
              "#0d0887"
             ],
             [
              0.1111111111111111,
              "#46039f"
             ],
             [
              0.2222222222222222,
              "#7201a8"
             ],
             [
              0.3333333333333333,
              "#9c179e"
             ],
             [
              0.4444444444444444,
              "#bd3786"
             ],
             [
              0.5555555555555556,
              "#d8576b"
             ],
             [
              0.6666666666666666,
              "#ed7953"
             ],
             [
              0.7777777777777778,
              "#fb9f3a"
             ],
             [
              0.8888888888888888,
              "#fdca26"
             ],
             [
              1.0,
              "#f0f921"
             ]
            ]
           }
          ],
          "choropleth": [
           {
            "type": "choropleth",
            "colorbar": {
             "outlinewidth": 0,
             "ticks": ""
            }
           }
          ],
          "histogram2d": [
           {
            "type": "histogram2d",
            "colorbar": {
             "outlinewidth": 0,
             "ticks": ""
            },
            "colorscale": [
             [
              0.0,
              "#0d0887"
             ],
             [
              0.1111111111111111,
              "#46039f"
             ],
             [
              0.2222222222222222,
              "#7201a8"
             ],
             [
              0.3333333333333333,
              "#9c179e"
             ],
             [
              0.4444444444444444,
              "#bd3786"
             ],
             [
              0.5555555555555556,
              "#d8576b"
             ],
             [
              0.6666666666666666,
              "#ed7953"
             ],
             [
              0.7777777777777778,
              "#fb9f3a"
             ],
             [
              0.8888888888888888,
              "#fdca26"
             ],
             [
              1.0,
              "#f0f921"
             ]
            ]
           }
          ],
          "heatmap": [
           {
            "type": "heatmap",
            "colorbar": {
             "outlinewidth": 0,
             "ticks": ""
            },
            "colorscale": [
             [
              0.0,
              "#0d0887"
             ],
             [
              0.1111111111111111,
              "#46039f"
             ],
             [
              0.2222222222222222,
              "#7201a8"
             ],
             [
              0.3333333333333333,
              "#9c179e"
             ],
             [
              0.4444444444444444,
              "#bd3786"
             ],
             [
              0.5555555555555556,
              "#d8576b"
             ],
             [
              0.6666666666666666,
              "#ed7953"
             ],
             [
              0.7777777777777778,
              "#fb9f3a"
             ],
             [
              0.8888888888888888,
              "#fdca26"
             ],
             [
              1.0,
              "#f0f921"
             ]
            ]
           }
          ],
          "heatmapgl": [
           {
            "type": "heatmapgl",
            "colorbar": {
             "outlinewidth": 0,
             "ticks": ""
            },
            "colorscale": [
             [
              0.0,
              "#0d0887"
             ],
             [
              0.1111111111111111,
              "#46039f"
             ],
             [
              0.2222222222222222,
              "#7201a8"
             ],
             [
              0.3333333333333333,
              "#9c179e"
             ],
             [
              0.4444444444444444,
              "#bd3786"
             ],
             [
              0.5555555555555556,
              "#d8576b"
             ],
             [
              0.6666666666666666,
              "#ed7953"
             ],
             [
              0.7777777777777778,
              "#fb9f3a"
             ],
             [
              0.8888888888888888,
              "#fdca26"
             ],
             [
              1.0,
              "#f0f921"
             ]
            ]
           }
          ],
          "contourcarpet": [
           {
            "type": "contourcarpet",
            "colorbar": {
             "outlinewidth": 0,
             "ticks": ""
            }
           }
          ],
          "contour": [
           {
            "type": "contour",
            "colorbar": {
             "outlinewidth": 0,
             "ticks": ""
            },
            "colorscale": [
             [
              0.0,
              "#0d0887"
             ],
             [
              0.1111111111111111,
              "#46039f"
             ],
             [
              0.2222222222222222,
              "#7201a8"
             ],
             [
              0.3333333333333333,
              "#9c179e"
             ],
             [
              0.4444444444444444,
              "#bd3786"
             ],
             [
              0.5555555555555556,
              "#d8576b"
             ],
             [
              0.6666666666666666,
              "#ed7953"
             ],
             [
              0.7777777777777778,
              "#fb9f3a"
             ],
             [
              0.8888888888888888,
              "#fdca26"
             ],
             [
              1.0,
              "#f0f921"
             ]
            ]
           }
          ],
          "surface": [
           {
            "type": "surface",
            "colorbar": {
             "outlinewidth": 0,
             "ticks": ""
            },
            "colorscale": [
             [
              0.0,
              "#0d0887"
             ],
             [
              0.1111111111111111,
              "#46039f"
             ],
             [
              0.2222222222222222,
              "#7201a8"
             ],
             [
              0.3333333333333333,
              "#9c179e"
             ],
             [
              0.4444444444444444,
              "#bd3786"
             ],
             [
              0.5555555555555556,
              "#d8576b"
             ],
             [
              0.6666666666666666,
              "#ed7953"
             ],
             [
              0.7777777777777778,
              "#fb9f3a"
             ],
             [
              0.8888888888888888,
              "#fdca26"
             ],
             [
              1.0,
              "#f0f921"
             ]
            ]
           }
          ],
          "mesh3d": [
           {
            "type": "mesh3d",
            "colorbar": {
             "outlinewidth": 0,
             "ticks": ""
            }
           }
          ],
          "scatter": [
           {
            "fillpattern": {
             "fillmode": "overlay",
             "size": 10,
             "solidity": 0.2
            },
            "type": "scatter"
           }
          ],
          "parcoords": [
           {
            "type": "parcoords",
            "line": {
             "colorbar": {
              "outlinewidth": 0,
              "ticks": ""
             }
            }
           }
          ],
          "scatterpolargl": [
           {
            "type": "scatterpolargl",
            "marker": {
             "colorbar": {
              "outlinewidth": 0,
              "ticks": ""
             }
            }
           }
          ],
          "bar": [
           {
            "error_x": {
             "color": "#2a3f5f"
            },
            "error_y": {
             "color": "#2a3f5f"
            },
            "marker": {
             "line": {
              "color": "#E5ECF6",
              "width": 0.5
             },
             "pattern": {
              "fillmode": "overlay",
              "size": 10,
              "solidity": 0.2
             }
            },
            "type": "bar"
           }
          ],
          "scattergeo": [
           {
            "type": "scattergeo",
            "marker": {
             "colorbar": {
              "outlinewidth": 0,
              "ticks": ""
             }
            }
           }
          ],
          "scatterpolar": [
           {
            "type": "scatterpolar",
            "marker": {
             "colorbar": {
              "outlinewidth": 0,
              "ticks": ""
             }
            }
           }
          ],
          "histogram": [
           {
            "marker": {
             "pattern": {
              "fillmode": "overlay",
              "size": 10,
              "solidity": 0.2
             }
            },
            "type": "histogram"
           }
          ],
          "scattergl": [
           {
            "type": "scattergl",
            "marker": {
             "colorbar": {
              "outlinewidth": 0,
              "ticks": ""
             }
            }
           }
          ],
          "scatter3d": [
           {
            "type": "scatter3d",
            "line": {
             "colorbar": {
              "outlinewidth": 0,
              "ticks": ""
             }
            },
            "marker": {
             "colorbar": {
              "outlinewidth": 0,
              "ticks": ""
             }
            }
           }
          ],
          "scattermapbox": [
           {
            "type": "scattermapbox",
            "marker": {
             "colorbar": {
              "outlinewidth": 0,
              "ticks": ""
             }
            }
           }
          ],
          "scatterternary": [
           {
            "type": "scatterternary",
            "marker": {
             "colorbar": {
              "outlinewidth": 0,
              "ticks": ""
             }
            }
           }
          ],
          "scattercarpet": [
           {
            "type": "scattercarpet",
            "marker": {
             "colorbar": {
              "outlinewidth": 0,
              "ticks": ""
             }
            }
           }
          ],
          "carpet": [
           {
            "aaxis": {
             "endlinecolor": "#2a3f5f",
             "gridcolor": "white",
             "linecolor": "white",
             "minorgridcolor": "white",
             "startlinecolor": "#2a3f5f"
            },
            "baxis": {
             "endlinecolor": "#2a3f5f",
             "gridcolor": "white",
             "linecolor": "white",
             "minorgridcolor": "white",
             "startlinecolor": "#2a3f5f"
            },
            "type": "carpet"
           }
          ],
          "table": [
           {
            "cells": {
             "fill": {
              "color": "#EBF0F8"
             },
             "line": {
              "color": "white"
             }
            },
            "header": {
             "fill": {
              "color": "#C8D4E3"
             },
             "line": {
              "color": "white"
             }
            },
            "type": "table"
           }
          ],
          "barpolar": [
           {
            "marker": {
             "line": {
              "color": "#E5ECF6",
              "width": 0.5
             },
             "pattern": {
              "fillmode": "overlay",
              "size": 10,
              "solidity": 0.2
             }
            },
            "type": "barpolar"
           }
          ],
          "pie": [
           {
            "automargin": true,
            "type": "pie"
           }
          ]
         },
         "layout": {
          "autotypenumbers": "strict",
          "colorway": [
           "#636efa",
           "#EF553B",
           "#00cc96",
           "#ab63fa",
           "#FFA15A",
           "#19d3f3",
           "#FF6692",
           "#B6E880",
           "#FF97FF",
           "#FECB52"
          ],
          "font": {
           "color": "#2a3f5f"
          },
          "hovermode": "closest",
          "hoverlabel": {
           "align": "left"
          },
          "paper_bgcolor": "white",
          "plot_bgcolor": "#E5ECF6",
          "polar": {
           "bgcolor": "#E5ECF6",
           "angularaxis": {
            "gridcolor": "white",
            "linecolor": "white",
            "ticks": ""
           },
           "radialaxis": {
            "gridcolor": "white",
            "linecolor": "white",
            "ticks": ""
           }
          },
          "ternary": {
           "bgcolor": "#E5ECF6",
           "aaxis": {
            "gridcolor": "white",
            "linecolor": "white",
            "ticks": ""
           },
           "baxis": {
            "gridcolor": "white",
            "linecolor": "white",
            "ticks": ""
           },
           "caxis": {
            "gridcolor": "white",
            "linecolor": "white",
            "ticks": ""
           }
          },
          "coloraxis": {
           "colorbar": {
            "outlinewidth": 0,
            "ticks": ""
           }
          },
          "colorscale": {
           "sequential": [
            [
             0.0,
             "#0d0887"
            ],
            [
             0.1111111111111111,
             "#46039f"
            ],
            [
             0.2222222222222222,
             "#7201a8"
            ],
            [
             0.3333333333333333,
             "#9c179e"
            ],
            [
             0.4444444444444444,
             "#bd3786"
            ],
            [
             0.5555555555555556,
             "#d8576b"
            ],
            [
             0.6666666666666666,
             "#ed7953"
            ],
            [
             0.7777777777777778,
             "#fb9f3a"
            ],
            [
             0.8888888888888888,
             "#fdca26"
            ],
            [
             1.0,
             "#f0f921"
            ]
           ],
           "sequentialminus": [
            [
             0.0,
             "#0d0887"
            ],
            [
             0.1111111111111111,
             "#46039f"
            ],
            [
             0.2222222222222222,
             "#7201a8"
            ],
            [
             0.3333333333333333,
             "#9c179e"
            ],
            [
             0.4444444444444444,
             "#bd3786"
            ],
            [
             0.5555555555555556,
             "#d8576b"
            ],
            [
             0.6666666666666666,
             "#ed7953"
            ],
            [
             0.7777777777777778,
             "#fb9f3a"
            ],
            [
             0.8888888888888888,
             "#fdca26"
            ],
            [
             1.0,
             "#f0f921"
            ]
           ],
           "diverging": [
            [
             0,
             "#8e0152"
            ],
            [
             0.1,
             "#c51b7d"
            ],
            [
             0.2,
             "#de77ae"
            ],
            [
             0.3,
             "#f1b6da"
            ],
            [
             0.4,
             "#fde0ef"
            ],
            [
             0.5,
             "#f7f7f7"
            ],
            [
             0.6,
             "#e6f5d0"
            ],
            [
             0.7,
             "#b8e186"
            ],
            [
             0.8,
             "#7fbc41"
            ],
            [
             0.9,
             "#4d9221"
            ],
            [
             1,
             "#276419"
            ]
           ]
          },
          "xaxis": {
           "gridcolor": "white",
           "linecolor": "white",
           "ticks": "",
           "title": {
            "standoff": 15
           },
           "zerolinecolor": "white",
           "automargin": true,
           "zerolinewidth": 2
          },
          "yaxis": {
           "gridcolor": "white",
           "linecolor": "white",
           "ticks": "",
           "title": {
            "standoff": 15
           },
           "zerolinecolor": "white",
           "automargin": true,
           "zerolinewidth": 2
          },
          "scene": {
           "xaxis": {
            "backgroundcolor": "#E5ECF6",
            "gridcolor": "white",
            "linecolor": "white",
            "showbackground": true,
            "ticks": "",
            "zerolinecolor": "white",
            "gridwidth": 2
           },
           "yaxis": {
            "backgroundcolor": "#E5ECF6",
            "gridcolor": "white",
            "linecolor": "white",
            "showbackground": true,
            "ticks": "",
            "zerolinecolor": "white",
            "gridwidth": 2
           },
           "zaxis": {
            "backgroundcolor": "#E5ECF6",
            "gridcolor": "white",
            "linecolor": "white",
            "showbackground": true,
            "ticks": "",
            "zerolinecolor": "white",
            "gridwidth": 2
           }
          },
          "shapedefaults": {
           "line": {
            "color": "#2a3f5f"
           }
          },
          "annotationdefaults": {
           "arrowcolor": "#2a3f5f",
           "arrowhead": 0,
           "arrowwidth": 1
          },
          "geo": {
           "bgcolor": "white",
           "landcolor": "#E5ECF6",
           "subunitcolor": "white",
           "showland": true,
           "showlakes": true,
           "lakecolor": "white"
          },
          "title": {
           "x": 0.05
          },
          "mapbox": {
           "style": "light"
          }
         }
        },
        "xaxis": {
         "anchor": "y",
         "domain": [
          0.0,
          1.0
         ],
         "title": {
          "text": "Processes"
         },
         "tickangle": 45
        },
        "yaxis": {
         "anchor": "x",
         "domain": [
          0.0,
          1.0
         ],
         "title": {
          "text": "Memory Usage (MB)"
         }
        },
        "legend": {
         "tracegroupgap": 0
        },
        "margin": {
         "t": 60
        },
        "barmode": "relative",
        "title": {
         "text": "Memory Usage of Processes on 2023-11-14"
        },
        "barnorm": "percent",
        "plot_bgcolor": "#FEF9FF"
       },
       "config": {
        "plotlyServerURL": "https://plot.ly"
       }
      },
      "text/html": "<div>                            <div id=\"d613dce0-f8b5-4c5d-b9f7-af7e95765656\" class=\"plotly-graph-div\" style=\"height:525px; width:100%;\"></div>            <script type=\"text/javascript\">                require([\"plotly\"], function(Plotly) {                    window.PLOTLYENV=window.PLOTLYENV || {};                                    if (document.getElementById(\"d613dce0-f8b5-4c5d-b9f7-af7e95765656\")) {                    Plotly.newPlot(                        \"d613dce0-f8b5-4c5d-b9f7-af7e95765656\",                        [{\"alignmentgroup\":\"True\",\"hovertemplate\":\"hungriestProc=%{x}\\u003cbr\\u003eMemory Usage (MB)=%{y}\\u003cextra\\u003e\\u003c\\u002fextra\\u003e\",\"legendgroup\":\"\",\"marker\":{\"color\":\"#736CED\",\"pattern\":{\"shape\":\"\"}},\"name\":\"\",\"offsetgroup\":\"\",\"orientation\":\"v\",\"showlegend\":false,\"textposition\":\"auto\",\"x\":[\"pycharm64.exe\",\"pycharm64.exe\",\"pycharm64.exe\",\"pycharm64.exe\",\"pycharm64.exe\",\"pycharm64.exe\",\"pycharm64.exe\",\"pycharm64.exe\",\"pycharm64.exe\",\"pycharm64.exe\",\"pycharm64.exe\",\"chrome.exe\",\"pycharm64.exe\",\"pycharm64.exe\",\"pycharm64.exe\",\"chrome.exe\",\"pycharm64.exe\",\"pycharm64.exe\",\"chrome.exe\",\"pycharm64.exe\",\"pycharm64.exe\",\"chrome.exe\",\"chrome.exe\",\"pycharm64.exe\",\"pycharm64.exe\",\"pycharm64.exe\",\"pycharm64.exe\",\"pycharm64.exe\",\"pycharm64.exe\",\"pycharm64.exe\",\"pycharm64.exe\",\"pycharm64.exe\",\"pycharm64.exe\",\"pycharm64.exe\",\"pycharm64.exe\",\"pycharm64.exe\",\"pycharm64.exe\",\"pycharm64.exe\",\"pycharm64.exe\",\"pycharm64.exe\",\"pycharm64.exe\",\"pycharm64.exe\",\"pycharm64.exe\",\"pycharm64.exe\",\"pycharm64.exe\",\"pycharm64.exe\",\"pycharm64.exe\",\"pycharm64.exe\",\"pycharm64.exe\",\"pycharm64.exe\",\"pycharm64.exe\",\"pycharm64.exe\",\"pycharm64.exe\",\"pycharm64.exe\",\"pycharm64.exe\",\"pycharm64.exe\",\"pycharm64.exe\",\"pycharm64.exe\",\"pycharm64.exe\",\"pycharm64.exe\",\"pycharm64.exe\",\"pycharm64.exe\",\"pycharm64.exe\",\"pycharm64.exe\",\"pycharm64.exe\",\"pycharm64.exe\",\"pycharm64.exe\",\"pycharm64.exe\",\"pycharm64.exe\",\"pycharm64.exe\",\"pycharm64.exe\",\"pycharm64.exe\",\"pycharm64.exe\",\"pycharm64.exe\",\"pycharm64.exe\",\"pycharm64.exe\",\"pycharm64.exe\",\"pycharm64.exe\",\"pycharm64.exe\",\"pycharm64.exe\",\"pycharm64.exe\",\"pycharm64.exe\",\"pycharm64.exe\",\"pycharm64.exe\",\"pycharm64.exe\",\"pycharm64.exe\",\"pycharm64.exe\",\"pycharm64.exe\",\"pycharm64.exe\",\"pycharm64.exe\",\"pycharm64.exe\",\"pycharm64.exe\",\"pycharm64.exe\",\"pycharm64.exe\",\"pycharm64.exe\",\"pycharm64.exe\",\"pycharm64.exe\",\"pycharm64.exe\",\"pycharm64.exe\",\"pycharm64.exe\",\"pycharm64.exe\",\"pycharm64.exe\",\"pycharm64.exe\",\"pycharm64.exe\",\"pycharm64.exe\",\"pycharm64.exe\",\"pycharm64.exe\",\"pycharm64.exe\",\"pycharm64.exe\",\"pycharm64.exe\",\"pycharm64.exe\",\"pycharm64.exe\",\"pycharm64.exe\",\"pycharm64.exe\",\"pycharm64.exe\",\"pycharm64.exe\",\"pycharm64.exe\",\"pycharm64.exe\",\"pycharm64.exe\",\"pycharm64.exe\",\"pycharm64.exe\",\"pycharm64.exe\",\"pycharm64.exe\",\"pycharm64.exe\",\"pycharm64.exe\",\"pycharm64.exe\",\"pycharm64.exe\",\"pycharm64.exe\",\"pycharm64.exe\",\"pycharm64.exe\",\"pycharm64.exe\",\"pycharm64.exe\",\"pycharm64.exe\",\"pycharm64.exe\",\"pycharm64.exe\",\"pycharm64.exe\",\"pycharm64.exe\",\"pycharm64.exe\",\"pycharm64.exe\",\"pycharm64.exe\",\"svchost.exe\",\"svchost.exe\",\"svchost.exe\",\"svchost.exe\",\"svchost.exe\",\"svchost.exe\",\"svchost.exe\",\"svchost.exe\",\"svchost.exe\",\"svchost.exe\",\"svchost.exe\",\"svchost.exe\",\"svchost.exe\",\"svchost.exe\",\"svchost.exe\",\"svchost.exe\",\"svchost.exe\",\"svchost.exe\",\"svchost.exe\",\"svchost.exe\",\"svchost.exe\",\"svchost.exe\",\"svchost.exe\",\"svchost.exe\",\"svchost.exe\",\"svchost.exe\",\"svchost.exe\",\"svchost.exe\",\"svchost.exe\",\"svchost.exe\",\"svchost.exe\",\"svchost.exe\",\"svchost.exe\",\"svchost.exe\",\"svchost.exe\",\"svchost.exe\",\"svchost.exe\",\"svchost.exe\",\"svchost.exe\",\"svchost.exe\",\"svchost.exe\",\"svchost.exe\",\"svchost.exe\",\"svchost.exe\",\"svchost.exe\",\"svchost.exe\",\"svchost.exe\",\"svchost.exe\",\"svchost.exe\",\"svchost.exe\",\"svchost.exe\"],\"xaxis\":\"x\",\"y\":[2393.59,2397.08,2396.91,2393.74,2393.84,2393.69,2393.76,2389.13,2397.7,2389.04,2375.85,2193.87,2393.32,2394.6,2389.03,2217.77,2060.54,2208.37,2198.24,2462.76,2061.86,2160.72,2120.75,2187.49,2491.82,2208.9,2208.59,2061.28,2059.9,2491.06,2066.02,2385.25,2112.06,2493.53,2112.04,2489.26,2209.42,2489.38,2491.07,2493.56,2490.82,2491.0,2489.43,2489.36,2489.56,2491.14,2487.98,2407.28,2187.72,2361.33,2406.15,2146.28,2146.33,2146.19,2460.14,2216.87,2219.7,2335.61,2494.72,2187.21,2209.94,2233.92,2495.46,2187.9,2595.66,2494.21,2451.56,2576.8,2471.94,2404.18,2581.08,2573.0,2575.51,2569.33,2029.97,2579.81,2407.92,2578.64,2490.29,2586.76,2504.64,2592.28,2573.84,2578.71,2572.84,2568.03,2504.8,2394.21,2029.73,2504.91,2504.73,2180.74,2581.58,2245.98,2366.64,2243.04,2582.42,2407.99,2509.25,2577.98,2172.99,2233.41,2072.83,2162.77,2392.37,2386.07,2160.12,2166.58,2225.42,2232.91,2232.96,2232.07,2227.02,2068.16,2228.37,2229.5,2140.23,2389.04,2095.88,2220.73,2169.72,2222.73,2077.31,2228.12,2228.61,2253.87,2227.4,2228.3,2226.95,2226.69,2228.32,2272.69,2067.47,2283.28,2302.15,2250.91,2251.48,2252.66,2277.25,2277.21,1265.58,1271.81,1247.89,1250.8,1233.18,1235.36,1229.7,1290.42,1227.8,1222.57,1229.22,1247.72,1209.82,1209.71,1209.45,1209.73,1209.18,1208.95,1209.76,1244.95,1216.0,1215.67,1254.39,1208.45,1219.06,1209.48,1209.44,1217.34,1217.36,1218.18,1208.24,1208.96,1219.27,1208.08,1207.03,1207.09,1208.15,1227.07,1205.79,1206.2,1206.5,1205.34,1206.42,1206.03,1205.23,1206.54,1206.56,1209.87,1210.25,1206.27,1208.19],\"yaxis\":\"y\",\"type\":\"bar\"}],                        {\"template\":{\"data\":{\"histogram2dcontour\":[{\"type\":\"histogram2dcontour\",\"colorbar\":{\"outlinewidth\":0,\"ticks\":\"\"},\"colorscale\":[[0.0,\"#0d0887\"],[0.1111111111111111,\"#46039f\"],[0.2222222222222222,\"#7201a8\"],[0.3333333333333333,\"#9c179e\"],[0.4444444444444444,\"#bd3786\"],[0.5555555555555556,\"#d8576b\"],[0.6666666666666666,\"#ed7953\"],[0.7777777777777778,\"#fb9f3a\"],[0.8888888888888888,\"#fdca26\"],[1.0,\"#f0f921\"]]}],\"choropleth\":[{\"type\":\"choropleth\",\"colorbar\":{\"outlinewidth\":0,\"ticks\":\"\"}}],\"histogram2d\":[{\"type\":\"histogram2d\",\"colorbar\":{\"outlinewidth\":0,\"ticks\":\"\"},\"colorscale\":[[0.0,\"#0d0887\"],[0.1111111111111111,\"#46039f\"],[0.2222222222222222,\"#7201a8\"],[0.3333333333333333,\"#9c179e\"],[0.4444444444444444,\"#bd3786\"],[0.5555555555555556,\"#d8576b\"],[0.6666666666666666,\"#ed7953\"],[0.7777777777777778,\"#fb9f3a\"],[0.8888888888888888,\"#fdca26\"],[1.0,\"#f0f921\"]]}],\"heatmap\":[{\"type\":\"heatmap\",\"colorbar\":{\"outlinewidth\":0,\"ticks\":\"\"},\"colorscale\":[[0.0,\"#0d0887\"],[0.1111111111111111,\"#46039f\"],[0.2222222222222222,\"#7201a8\"],[0.3333333333333333,\"#9c179e\"],[0.4444444444444444,\"#bd3786\"],[0.5555555555555556,\"#d8576b\"],[0.6666666666666666,\"#ed7953\"],[0.7777777777777778,\"#fb9f3a\"],[0.8888888888888888,\"#fdca26\"],[1.0,\"#f0f921\"]]}],\"heatmapgl\":[{\"type\":\"heatmapgl\",\"colorbar\":{\"outlinewidth\":0,\"ticks\":\"\"},\"colorscale\":[[0.0,\"#0d0887\"],[0.1111111111111111,\"#46039f\"],[0.2222222222222222,\"#7201a8\"],[0.3333333333333333,\"#9c179e\"],[0.4444444444444444,\"#bd3786\"],[0.5555555555555556,\"#d8576b\"],[0.6666666666666666,\"#ed7953\"],[0.7777777777777778,\"#fb9f3a\"],[0.8888888888888888,\"#fdca26\"],[1.0,\"#f0f921\"]]}],\"contourcarpet\":[{\"type\":\"contourcarpet\",\"colorbar\":{\"outlinewidth\":0,\"ticks\":\"\"}}],\"contour\":[{\"type\":\"contour\",\"colorbar\":{\"outlinewidth\":0,\"ticks\":\"\"},\"colorscale\":[[0.0,\"#0d0887\"],[0.1111111111111111,\"#46039f\"],[0.2222222222222222,\"#7201a8\"],[0.3333333333333333,\"#9c179e\"],[0.4444444444444444,\"#bd3786\"],[0.5555555555555556,\"#d8576b\"],[0.6666666666666666,\"#ed7953\"],[0.7777777777777778,\"#fb9f3a\"],[0.8888888888888888,\"#fdca26\"],[1.0,\"#f0f921\"]]}],\"surface\":[{\"type\":\"surface\",\"colorbar\":{\"outlinewidth\":0,\"ticks\":\"\"},\"colorscale\":[[0.0,\"#0d0887\"],[0.1111111111111111,\"#46039f\"],[0.2222222222222222,\"#7201a8\"],[0.3333333333333333,\"#9c179e\"],[0.4444444444444444,\"#bd3786\"],[0.5555555555555556,\"#d8576b\"],[0.6666666666666666,\"#ed7953\"],[0.7777777777777778,\"#fb9f3a\"],[0.8888888888888888,\"#fdca26\"],[1.0,\"#f0f921\"]]}],\"mesh3d\":[{\"type\":\"mesh3d\",\"colorbar\":{\"outlinewidth\":0,\"ticks\":\"\"}}],\"scatter\":[{\"fillpattern\":{\"fillmode\":\"overlay\",\"size\":10,\"solidity\":0.2},\"type\":\"scatter\"}],\"parcoords\":[{\"type\":\"parcoords\",\"line\":{\"colorbar\":{\"outlinewidth\":0,\"ticks\":\"\"}}}],\"scatterpolargl\":[{\"type\":\"scatterpolargl\",\"marker\":{\"colorbar\":{\"outlinewidth\":0,\"ticks\":\"\"}}}],\"bar\":[{\"error_x\":{\"color\":\"#2a3f5f\"},\"error_y\":{\"color\":\"#2a3f5f\"},\"marker\":{\"line\":{\"color\":\"#E5ECF6\",\"width\":0.5},\"pattern\":{\"fillmode\":\"overlay\",\"size\":10,\"solidity\":0.2}},\"type\":\"bar\"}],\"scattergeo\":[{\"type\":\"scattergeo\",\"marker\":{\"colorbar\":{\"outlinewidth\":0,\"ticks\":\"\"}}}],\"scatterpolar\":[{\"type\":\"scatterpolar\",\"marker\":{\"colorbar\":{\"outlinewidth\":0,\"ticks\":\"\"}}}],\"histogram\":[{\"marker\":{\"pattern\":{\"fillmode\":\"overlay\",\"size\":10,\"solidity\":0.2}},\"type\":\"histogram\"}],\"scattergl\":[{\"type\":\"scattergl\",\"marker\":{\"colorbar\":{\"outlinewidth\":0,\"ticks\":\"\"}}}],\"scatter3d\":[{\"type\":\"scatter3d\",\"line\":{\"colorbar\":{\"outlinewidth\":0,\"ticks\":\"\"}},\"marker\":{\"colorbar\":{\"outlinewidth\":0,\"ticks\":\"\"}}}],\"scattermapbox\":[{\"type\":\"scattermapbox\",\"marker\":{\"colorbar\":{\"outlinewidth\":0,\"ticks\":\"\"}}}],\"scatterternary\":[{\"type\":\"scatterternary\",\"marker\":{\"colorbar\":{\"outlinewidth\":0,\"ticks\":\"\"}}}],\"scattercarpet\":[{\"type\":\"scattercarpet\",\"marker\":{\"colorbar\":{\"outlinewidth\":0,\"ticks\":\"\"}}}],\"carpet\":[{\"aaxis\":{\"endlinecolor\":\"#2a3f5f\",\"gridcolor\":\"white\",\"linecolor\":\"white\",\"minorgridcolor\":\"white\",\"startlinecolor\":\"#2a3f5f\"},\"baxis\":{\"endlinecolor\":\"#2a3f5f\",\"gridcolor\":\"white\",\"linecolor\":\"white\",\"minorgridcolor\":\"white\",\"startlinecolor\":\"#2a3f5f\"},\"type\":\"carpet\"}],\"table\":[{\"cells\":{\"fill\":{\"color\":\"#EBF0F8\"},\"line\":{\"color\":\"white\"}},\"header\":{\"fill\":{\"color\":\"#C8D4E3\"},\"line\":{\"color\":\"white\"}},\"type\":\"table\"}],\"barpolar\":[{\"marker\":{\"line\":{\"color\":\"#E5ECF6\",\"width\":0.5},\"pattern\":{\"fillmode\":\"overlay\",\"size\":10,\"solidity\":0.2}},\"type\":\"barpolar\"}],\"pie\":[{\"automargin\":true,\"type\":\"pie\"}]},\"layout\":{\"autotypenumbers\":\"strict\",\"colorway\":[\"#636efa\",\"#EF553B\",\"#00cc96\",\"#ab63fa\",\"#FFA15A\",\"#19d3f3\",\"#FF6692\",\"#B6E880\",\"#FF97FF\",\"#FECB52\"],\"font\":{\"color\":\"#2a3f5f\"},\"hovermode\":\"closest\",\"hoverlabel\":{\"align\":\"left\"},\"paper_bgcolor\":\"white\",\"plot_bgcolor\":\"#E5ECF6\",\"polar\":{\"bgcolor\":\"#E5ECF6\",\"angularaxis\":{\"gridcolor\":\"white\",\"linecolor\":\"white\",\"ticks\":\"\"},\"radialaxis\":{\"gridcolor\":\"white\",\"linecolor\":\"white\",\"ticks\":\"\"}},\"ternary\":{\"bgcolor\":\"#E5ECF6\",\"aaxis\":{\"gridcolor\":\"white\",\"linecolor\":\"white\",\"ticks\":\"\"},\"baxis\":{\"gridcolor\":\"white\",\"linecolor\":\"white\",\"ticks\":\"\"},\"caxis\":{\"gridcolor\":\"white\",\"linecolor\":\"white\",\"ticks\":\"\"}},\"coloraxis\":{\"colorbar\":{\"outlinewidth\":0,\"ticks\":\"\"}},\"colorscale\":{\"sequential\":[[0.0,\"#0d0887\"],[0.1111111111111111,\"#46039f\"],[0.2222222222222222,\"#7201a8\"],[0.3333333333333333,\"#9c179e\"],[0.4444444444444444,\"#bd3786\"],[0.5555555555555556,\"#d8576b\"],[0.6666666666666666,\"#ed7953\"],[0.7777777777777778,\"#fb9f3a\"],[0.8888888888888888,\"#fdca26\"],[1.0,\"#f0f921\"]],\"sequentialminus\":[[0.0,\"#0d0887\"],[0.1111111111111111,\"#46039f\"],[0.2222222222222222,\"#7201a8\"],[0.3333333333333333,\"#9c179e\"],[0.4444444444444444,\"#bd3786\"],[0.5555555555555556,\"#d8576b\"],[0.6666666666666666,\"#ed7953\"],[0.7777777777777778,\"#fb9f3a\"],[0.8888888888888888,\"#fdca26\"],[1.0,\"#f0f921\"]],\"diverging\":[[0,\"#8e0152\"],[0.1,\"#c51b7d\"],[0.2,\"#de77ae\"],[0.3,\"#f1b6da\"],[0.4,\"#fde0ef\"],[0.5,\"#f7f7f7\"],[0.6,\"#e6f5d0\"],[0.7,\"#b8e186\"],[0.8,\"#7fbc41\"],[0.9,\"#4d9221\"],[1,\"#276419\"]]},\"xaxis\":{\"gridcolor\":\"white\",\"linecolor\":\"white\",\"ticks\":\"\",\"title\":{\"standoff\":15},\"zerolinecolor\":\"white\",\"automargin\":true,\"zerolinewidth\":2},\"yaxis\":{\"gridcolor\":\"white\",\"linecolor\":\"white\",\"ticks\":\"\",\"title\":{\"standoff\":15},\"zerolinecolor\":\"white\",\"automargin\":true,\"zerolinewidth\":2},\"scene\":{\"xaxis\":{\"backgroundcolor\":\"#E5ECF6\",\"gridcolor\":\"white\",\"linecolor\":\"white\",\"showbackground\":true,\"ticks\":\"\",\"zerolinecolor\":\"white\",\"gridwidth\":2},\"yaxis\":{\"backgroundcolor\":\"#E5ECF6\",\"gridcolor\":\"white\",\"linecolor\":\"white\",\"showbackground\":true,\"ticks\":\"\",\"zerolinecolor\":\"white\",\"gridwidth\":2},\"zaxis\":{\"backgroundcolor\":\"#E5ECF6\",\"gridcolor\":\"white\",\"linecolor\":\"white\",\"showbackground\":true,\"ticks\":\"\",\"zerolinecolor\":\"white\",\"gridwidth\":2}},\"shapedefaults\":{\"line\":{\"color\":\"#2a3f5f\"}},\"annotationdefaults\":{\"arrowcolor\":\"#2a3f5f\",\"arrowhead\":0,\"arrowwidth\":1},\"geo\":{\"bgcolor\":\"white\",\"landcolor\":\"#E5ECF6\",\"subunitcolor\":\"white\",\"showland\":true,\"showlakes\":true,\"lakecolor\":\"white\"},\"title\":{\"x\":0.05},\"mapbox\":{\"style\":\"light\"}}},\"xaxis\":{\"anchor\":\"y\",\"domain\":[0.0,1.0],\"title\":{\"text\":\"Processes\"},\"tickangle\":45},\"yaxis\":{\"anchor\":\"x\",\"domain\":[0.0,1.0],\"title\":{\"text\":\"Memory Usage (MB)\"}},\"legend\":{\"tracegroupgap\":0},\"margin\":{\"t\":60},\"barmode\":\"relative\",\"title\":{\"text\":\"Memory Usage of Processes on 2023-11-14\"},\"barnorm\":\"percent\",\"plot_bgcolor\":\"#FEF9FF\"},                        {\"responsive\": true}                    ).then(function(){\n                            \nvar gd = document.getElementById('d613dce0-f8b5-4c5d-b9f7-af7e95765656');\nvar x = new MutationObserver(function (mutations, observer) {{\n        var display = window.getComputedStyle(gd).display;\n        if (!display || display === 'none') {{\n            console.log([gd, 'removed!']);\n            Plotly.purge(gd);\n            observer.disconnect();\n        }}\n}});\n\n// Listen for the removal of the full notebook cells\nvar notebookContainer = gd.closest('#notebook-container');\nif (notebookContainer) {{\n    x.observe(notebookContainer, {childList: true});\n}}\n\n// Listen for the clearing of the current output cell\nvar outputEl = gd.closest('.output');\nif (outputEl) {{\n    x.observe(outputEl, {childList: true});\n}}\n\n                        })                };                });            </script>        </div>"
     },
     "metadata": {},
     "output_type": "display_data"
    },
    {
     "data": {
      "application/vnd.plotly.v1+json": {
       "data": [
        {
         "hovertemplate": "time=%{x}<br>bytesSent=%{y}<extra></extra>",
         "legendgroup": "",
         "line": {
          "color": "#636efa",
          "dash": "solid",
          "shape": "linear"
         },
         "marker": {
          "symbol": "circle"
         },
         "mode": "lines",
         "name": "",
         "orientation": "v",
         "showlegend": false,
         "x": [
          "00:03",
          "00:08",
          "00:13",
          "00:18",
          "00:23",
          "00:28",
          "00:33",
          "00:38",
          "00:43",
          "00:48",
          "00:53",
          "00:58",
          "01:03",
          "01:08",
          "01:13",
          "01:18",
          "01:23",
          "01:28",
          "01:33",
          "01:38",
          "01:43",
          "01:48",
          "01:53",
          "01:58",
          "02:03",
          "02:08",
          "02:13",
          "02:18",
          "02:23",
          "02:28",
          "02:33",
          "02:38",
          "02:43",
          "02:48",
          "02:53",
          "02:58",
          "03:03",
          "03:08",
          "03:13",
          "03:18",
          "03:23",
          "03:28",
          "03:33",
          "03:38",
          "03:43",
          "03:48",
          "03:53",
          "03:58",
          "04:03",
          "04:08",
          "04:13",
          "16:16",
          "16:17",
          "16:18",
          "16:19",
          "16:20",
          "16:21",
          "16:22",
          "16:23",
          "16:24",
          "16:25",
          "16:26",
          "16:27",
          "16:28",
          "16:29",
          "16:30",
          "16:31",
          "16:32",
          "16:33",
          "16:34",
          "16:35",
          "16:36",
          "16:37",
          "16:38",
          "16:39",
          "16:40",
          "16:41",
          "16:42",
          "16:43",
          "16:44",
          "16:45",
          "16:47",
          "16:48",
          "16:49",
          "16:50",
          "16:51",
          "16:52",
          "16:53",
          "16:54",
          "16:55",
          "16:56",
          "16:57",
          "16:58",
          "16:59",
          "17:00",
          "17:01",
          "17:02",
          "17:03",
          "17:04",
          "17:05",
          "17:06",
          "17:07",
          "17:08",
          "17:09",
          "17:10",
          "17:11",
          "17:12",
          "17:13",
          "18:20",
          "18:21",
          "18:22",
          "18:23",
          "18:24",
          "18:25",
          "18:26",
          "18:27",
          "18:28",
          "18:29",
          "18:30",
          "18:31",
          "18:32",
          "18:33",
          "18:34",
          "18:35",
          "18:36",
          "18:37",
          "18:38",
          "18:39",
          "18:40",
          "18:41",
          "18:42",
          "18:43",
          "18:44",
          "18:45",
          "18:46",
          "18:47",
          "18:48",
          "18:49",
          "18:50",
          "18:51",
          "18:52",
          "18:53",
          "18:54",
          "18:55",
          "18:56",
          "18:57",
          "18:58",
          "18:59",
          "19:00",
          "19:01",
          "19:02",
          "19:03",
          "19:04",
          "19:05",
          "19:06",
          "19:07",
          "19:08",
          "19:09",
          "19:10",
          "19:11",
          "19:12",
          "19:13",
          "19:14",
          "19:15",
          "19:16",
          "19:17",
          "19:19",
          "19:20",
          "19:21",
          "19:22",
          "19:23",
          "19:24",
          "19:25",
          "19:26",
          "19:27",
          "19:28",
          "19:29",
          "19:30",
          "19:31",
          "19:32",
          "19:33",
          "19:34",
          "19:35",
          "19:36",
          "19:37",
          "19:38",
          "19:39",
          "19:40",
          "19:41",
          "19:42",
          "19:43"
         ],
         "xaxis": "x",
         "y": [
          299167721,
          299205858,
          299212622,
          299240288,
          299293245,
          299333420,
          299373982,
          299400693,
          299420365,
          299461466,
          299631505,
          299657796,
          299676592,
          299757531,
          299763569,
          299790996,
          299808808,
          299835680,
          299880462,
          299923885,
          299930953,
          300156032,
          300207673,
          300236645,
          300310621,
          300340519,
          300346877,
          300374509,
          300392603,
          300420527,
          300456878,
          300496169,
          300502371,
          300553407,
          300561164,
          300745570,
          300779081,
          300806885,
          300813230,
          300947698,
          300965622,
          301177935,
          301194488,
          301228808,
          301356277,
          301415702,
          301868087,
          308240834,
          317144193,
          325196918,
          333243310,
          4072461,
          4077686,
          4103517,
          4217425,
          4419930,
          4462938,
          4583683,
          4976251,
          5051426,
          5126105,
          5191569,
          5238387,
          5249636,
          5257682,
          5277939,
          5283384,
          5297750,
          5351370,
          5356055,
          5364617,
          5387973,
          5431524,
          5506512,
          5720556,
          5776822,
          5818062,
          5849340,
          6845858,
          6888971,
          6944983,
          6970614,
          6998325,
          7018083,
          7053954,
          7251601,
          7765424,
          8617117,
          13258165,
          16998655,
          22593333,
          27829377,
          32277580,
          36108286,
          38432111,
          38632935,
          38861687,
          39170506,
          40246879,
          40830940,
          41216569,
          42147324,
          42656103,
          42726485,
          42910761,
          43221221,
          43802672,
          45109709,
          45647074,
          45935798,
          46929640,
          48616014,
          49367012,
          49773805,
          49937287,
          50044309,
          50100872,
          50260336,
          50275451,
          50334610,
          50391925,
          51604314,
          51610537,
          51613877,
          51622151,
          51625477,
          51650412,
          51664926,
          51677571,
          51684511,
          51687470,
          51711367,
          51714338,
          51722960,
          51727982,
          52060843,
          52178652,
          52332020,
          52380111,
          52636669,
          52762870,
          52847187,
          52960237,
          52998233,
          53677352,
          53967313,
          54059894,
          54093041,
          54154750,
          54200561,
          54261254,
          54309551,
          54320724,
          54838683,
          54892079,
          54941092,
          54966810,
          55007999,
          55012638,
          55064755,
          55082284,
          55090312,
          55095821,
          55101620,
          55125804,
          55148446,
          55190618,
          55354050,
          55493839,
          55502196,
          55581709,
          55703113,
          55844079,
          56454757,
          57238125,
          57364929,
          57409513,
          57459091,
          57497774,
          57554891,
          58148971,
          58396964,
          58654776,
          58673930,
          58694972,
          58737910,
          59145764,
          59401978,
          59452871,
          59471683,
          59508750
         ],
         "yaxis": "y",
         "type": "scatter"
        },
        {
         "line": {
          "color": "#D4C1EC"
         },
         "mode": "lines",
         "name": "bytesReceived",
         "x": [
          "00:03",
          "00:08",
          "00:13",
          "00:18",
          "00:23",
          "00:28",
          "00:33",
          "00:38",
          "00:43",
          "00:48",
          "00:53",
          "00:58",
          "01:03",
          "01:08",
          "01:13",
          "01:18",
          "01:23",
          "01:28",
          "01:33",
          "01:38",
          "01:43",
          "01:48",
          "01:53",
          "01:58",
          "02:03",
          "02:08",
          "02:13",
          "02:18",
          "02:23",
          "02:28",
          "02:33",
          "02:38",
          "02:43",
          "02:48",
          "02:53",
          "02:58",
          "03:03",
          "03:08",
          "03:13",
          "03:18",
          "03:23",
          "03:28",
          "03:33",
          "03:38",
          "03:43",
          "03:48",
          "03:53",
          "03:58",
          "04:03",
          "04:08",
          "04:13",
          "16:16",
          "16:17",
          "16:18",
          "16:19",
          "16:20",
          "16:21",
          "16:22",
          "16:23",
          "16:24",
          "16:25",
          "16:26",
          "16:27",
          "16:28",
          "16:29",
          "16:30",
          "16:31",
          "16:32",
          "16:33",
          "16:34",
          "16:35",
          "16:36",
          "16:37",
          "16:38",
          "16:39",
          "16:40",
          "16:41",
          "16:42",
          "16:43",
          "16:44",
          "16:45",
          "16:47",
          "16:48",
          "16:49",
          "16:50",
          "16:51",
          "16:52",
          "16:53",
          "16:54",
          "16:55",
          "16:56",
          "16:57",
          "16:58",
          "16:59",
          "17:00",
          "17:01",
          "17:02",
          "17:03",
          "17:04",
          "17:05",
          "17:06",
          "17:07",
          "17:08",
          "17:09",
          "17:10",
          "17:11",
          "17:12",
          "17:13",
          "18:20",
          "18:21",
          "18:22",
          "18:23",
          "18:24",
          "18:25",
          "18:26",
          "18:27",
          "18:28",
          "18:29",
          "18:30",
          "18:31",
          "18:32",
          "18:33",
          "18:34",
          "18:35",
          "18:36",
          "18:37",
          "18:38",
          "18:39",
          "18:40",
          "18:41",
          "18:42",
          "18:43",
          "18:44",
          "18:45",
          "18:46",
          "18:47",
          "18:48",
          "18:49",
          "18:50",
          "18:51",
          "18:52",
          "18:53",
          "18:54",
          "18:55",
          "18:56",
          "18:57",
          "18:58",
          "18:59",
          "19:00",
          "19:01",
          "19:02",
          "19:03",
          "19:04",
          "19:05",
          "19:06",
          "19:07",
          "19:08",
          "19:09",
          "19:10",
          "19:11",
          "19:12",
          "19:13",
          "19:14",
          "19:15",
          "19:16",
          "19:17",
          "19:19",
          "19:20",
          "19:21",
          "19:22",
          "19:23",
          "19:24",
          "19:25",
          "19:26",
          "19:27",
          "19:28",
          "19:29",
          "19:30",
          "19:31",
          "19:32",
          "19:33",
          "19:34",
          "19:35",
          "19:36",
          "19:37",
          "19:38",
          "19:39",
          "19:40",
          "19:41",
          "19:42",
          "19:43"
         ],
         "y": [
          449873740,
          450272379,
          450589581,
          450916267,
          451147850,
          451465153,
          451828806,
          452158472,
          452499223,
          452839489,
          453326542,
          453625594,
          453969222,
          454305685,
          454570688,
          454846412,
          455127881,
          455372761,
          455694686,
          456020671,
          456326391,
          456567533,
          456853415,
          457142843,
          457585404,
          457926271,
          458228500,
          458490994,
          458844440,
          459150723,
          459427316,
          459668009,
          459809690,
          460053788,
          460249558,
          460638543,
          460912146,
          461124156,
          461383534,
          461770512,
          461993024,
          462220798,
          462536019,
          462790339,
          463145599,
          463449202,
          464153679,
          470789777,
          480120867,
          488537945,
          535596074,
          31678552,
          31710137,
          31849165,
          32010373,
          32543698,
          32703190,
          33006252,
          33436723,
          33612880,
          33896614,
          34078208,
          34333696,
          34377134,
          34416464,
          34460464,
          34496145,
          34545756,
          34731353,
          34762925,
          34804243,
          35008095,
          35093691,
          35429779,
          35728978,
          35801215,
          35857356,
          35910618,
          37010870,
          37106396,
          37216403,
          37265776,
          37321142,
          37390446,
          37538904,
          37657441,
          39879482,
          52379704,
          173548140,
          279112151,
          412269105,
          545238870,
          667342772,
          778446779,
          841724973,
          842116477,
          842266679,
          844868704,
          854472511,
          855517572,
          856933382,
          862260881,
          864937172,
          865099799,
          866397996,
          868220358,
          870393119,
          938966471,
          940654834,
          962123402,
          1081718727,
          1386528926,
          1578277905,
          1595172452,
          1595451575,
          1595580304,
          1595683419,
          1598207373,
          1598230013,
          1598555351,
          1599363957,
          1599427149,
          1599451501,
          1599466522,
          1599490670,
          1599508439,
          1599596109,
          1599676515,
          1599704299,
          1599743888,
          1599763478,
          1599820263,
          1599836074,
          1599861699,
          1599878051,
          1600082033,
          1612014215,
          1612136129,
          1614511299,
          1620542732,
          1624058817,
          1626529979,
          1629516114,
          1629572494,
          1643976669,
          1646292721,
          1648286360,
          1648333067,
          1648647024,
          1649033952,
          1649244901,
          1649314691,
          1649339303,
          1656791290,
          1657251339,
          1657294850,
          1657342856,
          1657389224,
          1657407775,
          1657597576,
          1657632602,
          1657653386,
          1657671037,
          1657689119,
          1657882958,
          1657998063,
          1658028712,
          1658093727,
          1661918847,
          1661949503,
          1662307467,
          1664120866,
          1669203313,
          1677744595,
          1684400725,
          1684839317,
          1684890689,
          1684985460,
          1687431329,
          1692062400,
          1699481104,
          1701287849,
          1707639712,
          1707673898,
          1707710412,
          1710294622,
          1714318392,
          1716694354,
          1719053157,
          1719092653,
          1719151149
         ],
         "type": "scatter"
        },
        {
         "line": {
          "color": "#998f8b"
         },
         "mode": "lines",
         "name": "bytesSent",
         "x": [
          "00:03",
          "00:08",
          "00:13",
          "00:18",
          "00:23",
          "00:28",
          "00:33",
          "00:38",
          "00:43",
          "00:48",
          "00:53",
          "00:58",
          "01:03",
          "01:08",
          "01:13",
          "01:18",
          "01:23",
          "01:28",
          "01:33",
          "01:38",
          "01:43",
          "01:48",
          "01:53",
          "01:58",
          "02:03",
          "02:08",
          "02:13",
          "02:18",
          "02:23",
          "02:28",
          "02:33",
          "02:38",
          "02:43",
          "02:48",
          "02:53",
          "02:58",
          "03:03",
          "03:08",
          "03:13",
          "03:18",
          "03:23",
          "03:28",
          "03:33",
          "03:38",
          "03:43",
          "03:48",
          "03:53",
          "03:58",
          "04:03",
          "04:08",
          "04:13",
          "16:16",
          "16:17",
          "16:18",
          "16:19",
          "16:20",
          "16:21",
          "16:22",
          "16:23",
          "16:24",
          "16:25",
          "16:26",
          "16:27",
          "16:28",
          "16:29",
          "16:30",
          "16:31",
          "16:32",
          "16:33",
          "16:34",
          "16:35",
          "16:36",
          "16:37",
          "16:38",
          "16:39",
          "16:40",
          "16:41",
          "16:42",
          "16:43",
          "16:44",
          "16:45",
          "16:47",
          "16:48",
          "16:49",
          "16:50",
          "16:51",
          "16:52",
          "16:53",
          "16:54",
          "16:55",
          "16:56",
          "16:57",
          "16:58",
          "16:59",
          "17:00",
          "17:01",
          "17:02",
          "17:03",
          "17:04",
          "17:05",
          "17:06",
          "17:07",
          "17:08",
          "17:09",
          "17:10",
          "17:11",
          "17:12",
          "17:13",
          "18:20",
          "18:21",
          "18:22",
          "18:23",
          "18:24",
          "18:25",
          "18:26",
          "18:27",
          "18:28",
          "18:29",
          "18:30",
          "18:31",
          "18:32",
          "18:33",
          "18:34",
          "18:35",
          "18:36",
          "18:37",
          "18:38",
          "18:39",
          "18:40",
          "18:41",
          "18:42",
          "18:43",
          "18:44",
          "18:45",
          "18:46",
          "18:47",
          "18:48",
          "18:49",
          "18:50",
          "18:51",
          "18:52",
          "18:53",
          "18:54",
          "18:55",
          "18:56",
          "18:57",
          "18:58",
          "18:59",
          "19:00",
          "19:01",
          "19:02",
          "19:03",
          "19:04",
          "19:05",
          "19:06",
          "19:07",
          "19:08",
          "19:09",
          "19:10",
          "19:11",
          "19:12",
          "19:13",
          "19:14",
          "19:15",
          "19:16",
          "19:17",
          "19:19",
          "19:20",
          "19:21",
          "19:22",
          "19:23",
          "19:24",
          "19:25",
          "19:26",
          "19:27",
          "19:28",
          "19:29",
          "19:30",
          "19:31",
          "19:32",
          "19:33",
          "19:34",
          "19:35",
          "19:36",
          "19:37",
          "19:38",
          "19:39",
          "19:40",
          "19:41",
          "19:42",
          "19:43"
         ],
         "y": [
          299167721,
          299205858,
          299212622,
          299240288,
          299293245,
          299333420,
          299373982,
          299400693,
          299420365,
          299461466,
          299631505,
          299657796,
          299676592,
          299757531,
          299763569,
          299790996,
          299808808,
          299835680,
          299880462,
          299923885,
          299930953,
          300156032,
          300207673,
          300236645,
          300310621,
          300340519,
          300346877,
          300374509,
          300392603,
          300420527,
          300456878,
          300496169,
          300502371,
          300553407,
          300561164,
          300745570,
          300779081,
          300806885,
          300813230,
          300947698,
          300965622,
          301177935,
          301194488,
          301228808,
          301356277,
          301415702,
          301868087,
          308240834,
          317144193,
          325196918,
          333243310,
          4072461,
          4077686,
          4103517,
          4217425,
          4419930,
          4462938,
          4583683,
          4976251,
          5051426,
          5126105,
          5191569,
          5238387,
          5249636,
          5257682,
          5277939,
          5283384,
          5297750,
          5351370,
          5356055,
          5364617,
          5387973,
          5431524,
          5506512,
          5720556,
          5776822,
          5818062,
          5849340,
          6845858,
          6888971,
          6944983,
          6970614,
          6998325,
          7018083,
          7053954,
          7251601,
          7765424,
          8617117,
          13258165,
          16998655,
          22593333,
          27829377,
          32277580,
          36108286,
          38432111,
          38632935,
          38861687,
          39170506,
          40246879,
          40830940,
          41216569,
          42147324,
          42656103,
          42726485,
          42910761,
          43221221,
          43802672,
          45109709,
          45647074,
          45935798,
          46929640,
          48616014,
          49367012,
          49773805,
          49937287,
          50044309,
          50100872,
          50260336,
          50275451,
          50334610,
          50391925,
          51604314,
          51610537,
          51613877,
          51622151,
          51625477,
          51650412,
          51664926,
          51677571,
          51684511,
          51687470,
          51711367,
          51714338,
          51722960,
          51727982,
          52060843,
          52178652,
          52332020,
          52380111,
          52636669,
          52762870,
          52847187,
          52960237,
          52998233,
          53677352,
          53967313,
          54059894,
          54093041,
          54154750,
          54200561,
          54261254,
          54309551,
          54320724,
          54838683,
          54892079,
          54941092,
          54966810,
          55007999,
          55012638,
          55064755,
          55082284,
          55090312,
          55095821,
          55101620,
          55125804,
          55148446,
          55190618,
          55354050,
          55493839,
          55502196,
          55581709,
          55703113,
          55844079,
          56454757,
          57238125,
          57364929,
          57409513,
          57459091,
          57497774,
          57554891,
          58148971,
          58396964,
          58654776,
          58673930,
          58694972,
          58737910,
          59145764,
          59401978,
          59452871,
          59471683,
          59508750
         ],
         "type": "scatter"
        }
       ],
       "layout": {
        "template": {
         "data": {
          "histogram2dcontour": [
           {
            "type": "histogram2dcontour",
            "colorbar": {
             "outlinewidth": 0,
             "ticks": ""
            },
            "colorscale": [
             [
              0.0,
              "#0d0887"
             ],
             [
              0.1111111111111111,
              "#46039f"
             ],
             [
              0.2222222222222222,
              "#7201a8"
             ],
             [
              0.3333333333333333,
              "#9c179e"
             ],
             [
              0.4444444444444444,
              "#bd3786"
             ],
             [
              0.5555555555555556,
              "#d8576b"
             ],
             [
              0.6666666666666666,
              "#ed7953"
             ],
             [
              0.7777777777777778,
              "#fb9f3a"
             ],
             [
              0.8888888888888888,
              "#fdca26"
             ],
             [
              1.0,
              "#f0f921"
             ]
            ]
           }
          ],
          "choropleth": [
           {
            "type": "choropleth",
            "colorbar": {
             "outlinewidth": 0,
             "ticks": ""
            }
           }
          ],
          "histogram2d": [
           {
            "type": "histogram2d",
            "colorbar": {
             "outlinewidth": 0,
             "ticks": ""
            },
            "colorscale": [
             [
              0.0,
              "#0d0887"
             ],
             [
              0.1111111111111111,
              "#46039f"
             ],
             [
              0.2222222222222222,
              "#7201a8"
             ],
             [
              0.3333333333333333,
              "#9c179e"
             ],
             [
              0.4444444444444444,
              "#bd3786"
             ],
             [
              0.5555555555555556,
              "#d8576b"
             ],
             [
              0.6666666666666666,
              "#ed7953"
             ],
             [
              0.7777777777777778,
              "#fb9f3a"
             ],
             [
              0.8888888888888888,
              "#fdca26"
             ],
             [
              1.0,
              "#f0f921"
             ]
            ]
           }
          ],
          "heatmap": [
           {
            "type": "heatmap",
            "colorbar": {
             "outlinewidth": 0,
             "ticks": ""
            },
            "colorscale": [
             [
              0.0,
              "#0d0887"
             ],
             [
              0.1111111111111111,
              "#46039f"
             ],
             [
              0.2222222222222222,
              "#7201a8"
             ],
             [
              0.3333333333333333,
              "#9c179e"
             ],
             [
              0.4444444444444444,
              "#bd3786"
             ],
             [
              0.5555555555555556,
              "#d8576b"
             ],
             [
              0.6666666666666666,
              "#ed7953"
             ],
             [
              0.7777777777777778,
              "#fb9f3a"
             ],
             [
              0.8888888888888888,
              "#fdca26"
             ],
             [
              1.0,
              "#f0f921"
             ]
            ]
           }
          ],
          "heatmapgl": [
           {
            "type": "heatmapgl",
            "colorbar": {
             "outlinewidth": 0,
             "ticks": ""
            },
            "colorscale": [
             [
              0.0,
              "#0d0887"
             ],
             [
              0.1111111111111111,
              "#46039f"
             ],
             [
              0.2222222222222222,
              "#7201a8"
             ],
             [
              0.3333333333333333,
              "#9c179e"
             ],
             [
              0.4444444444444444,
              "#bd3786"
             ],
             [
              0.5555555555555556,
              "#d8576b"
             ],
             [
              0.6666666666666666,
              "#ed7953"
             ],
             [
              0.7777777777777778,
              "#fb9f3a"
             ],
             [
              0.8888888888888888,
              "#fdca26"
             ],
             [
              1.0,
              "#f0f921"
             ]
            ]
           }
          ],
          "contourcarpet": [
           {
            "type": "contourcarpet",
            "colorbar": {
             "outlinewidth": 0,
             "ticks": ""
            }
           }
          ],
          "contour": [
           {
            "type": "contour",
            "colorbar": {
             "outlinewidth": 0,
             "ticks": ""
            },
            "colorscale": [
             [
              0.0,
              "#0d0887"
             ],
             [
              0.1111111111111111,
              "#46039f"
             ],
             [
              0.2222222222222222,
              "#7201a8"
             ],
             [
              0.3333333333333333,
              "#9c179e"
             ],
             [
              0.4444444444444444,
              "#bd3786"
             ],
             [
              0.5555555555555556,
              "#d8576b"
             ],
             [
              0.6666666666666666,
              "#ed7953"
             ],
             [
              0.7777777777777778,
              "#fb9f3a"
             ],
             [
              0.8888888888888888,
              "#fdca26"
             ],
             [
              1.0,
              "#f0f921"
             ]
            ]
           }
          ],
          "surface": [
           {
            "type": "surface",
            "colorbar": {
             "outlinewidth": 0,
             "ticks": ""
            },
            "colorscale": [
             [
              0.0,
              "#0d0887"
             ],
             [
              0.1111111111111111,
              "#46039f"
             ],
             [
              0.2222222222222222,
              "#7201a8"
             ],
             [
              0.3333333333333333,
              "#9c179e"
             ],
             [
              0.4444444444444444,
              "#bd3786"
             ],
             [
              0.5555555555555556,
              "#d8576b"
             ],
             [
              0.6666666666666666,
              "#ed7953"
             ],
             [
              0.7777777777777778,
              "#fb9f3a"
             ],
             [
              0.8888888888888888,
              "#fdca26"
             ],
             [
              1.0,
              "#f0f921"
             ]
            ]
           }
          ],
          "mesh3d": [
           {
            "type": "mesh3d",
            "colorbar": {
             "outlinewidth": 0,
             "ticks": ""
            }
           }
          ],
          "scatter": [
           {
            "fillpattern": {
             "fillmode": "overlay",
             "size": 10,
             "solidity": 0.2
            },
            "type": "scatter"
           }
          ],
          "parcoords": [
           {
            "type": "parcoords",
            "line": {
             "colorbar": {
              "outlinewidth": 0,
              "ticks": ""
             }
            }
           }
          ],
          "scatterpolargl": [
           {
            "type": "scatterpolargl",
            "marker": {
             "colorbar": {
              "outlinewidth": 0,
              "ticks": ""
             }
            }
           }
          ],
          "bar": [
           {
            "error_x": {
             "color": "#2a3f5f"
            },
            "error_y": {
             "color": "#2a3f5f"
            },
            "marker": {
             "line": {
              "color": "#E5ECF6",
              "width": 0.5
             },
             "pattern": {
              "fillmode": "overlay",
              "size": 10,
              "solidity": 0.2
             }
            },
            "type": "bar"
           }
          ],
          "scattergeo": [
           {
            "type": "scattergeo",
            "marker": {
             "colorbar": {
              "outlinewidth": 0,
              "ticks": ""
             }
            }
           }
          ],
          "scatterpolar": [
           {
            "type": "scatterpolar",
            "marker": {
             "colorbar": {
              "outlinewidth": 0,
              "ticks": ""
             }
            }
           }
          ],
          "histogram": [
           {
            "marker": {
             "pattern": {
              "fillmode": "overlay",
              "size": 10,
              "solidity": 0.2
             }
            },
            "type": "histogram"
           }
          ],
          "scattergl": [
           {
            "type": "scattergl",
            "marker": {
             "colorbar": {
              "outlinewidth": 0,
              "ticks": ""
             }
            }
           }
          ],
          "scatter3d": [
           {
            "type": "scatter3d",
            "line": {
             "colorbar": {
              "outlinewidth": 0,
              "ticks": ""
             }
            },
            "marker": {
             "colorbar": {
              "outlinewidth": 0,
              "ticks": ""
             }
            }
           }
          ],
          "scattermapbox": [
           {
            "type": "scattermapbox",
            "marker": {
             "colorbar": {
              "outlinewidth": 0,
              "ticks": ""
             }
            }
           }
          ],
          "scatterternary": [
           {
            "type": "scatterternary",
            "marker": {
             "colorbar": {
              "outlinewidth": 0,
              "ticks": ""
             }
            }
           }
          ],
          "scattercarpet": [
           {
            "type": "scattercarpet",
            "marker": {
             "colorbar": {
              "outlinewidth": 0,
              "ticks": ""
             }
            }
           }
          ],
          "carpet": [
           {
            "aaxis": {
             "endlinecolor": "#2a3f5f",
             "gridcolor": "white",
             "linecolor": "white",
             "minorgridcolor": "white",
             "startlinecolor": "#2a3f5f"
            },
            "baxis": {
             "endlinecolor": "#2a3f5f",
             "gridcolor": "white",
             "linecolor": "white",
             "minorgridcolor": "white",
             "startlinecolor": "#2a3f5f"
            },
            "type": "carpet"
           }
          ],
          "table": [
           {
            "cells": {
             "fill": {
              "color": "#EBF0F8"
             },
             "line": {
              "color": "white"
             }
            },
            "header": {
             "fill": {
              "color": "#C8D4E3"
             },
             "line": {
              "color": "white"
             }
            },
            "type": "table"
           }
          ],
          "barpolar": [
           {
            "marker": {
             "line": {
              "color": "#E5ECF6",
              "width": 0.5
             },
             "pattern": {
              "fillmode": "overlay",
              "size": 10,
              "solidity": 0.2
             }
            },
            "type": "barpolar"
           }
          ],
          "pie": [
           {
            "automargin": true,
            "type": "pie"
           }
          ]
         },
         "layout": {
          "autotypenumbers": "strict",
          "colorway": [
           "#636efa",
           "#EF553B",
           "#00cc96",
           "#ab63fa",
           "#FFA15A",
           "#19d3f3",
           "#FF6692",
           "#B6E880",
           "#FF97FF",
           "#FECB52"
          ],
          "font": {
           "color": "#2a3f5f"
          },
          "hovermode": "closest",
          "hoverlabel": {
           "align": "left"
          },
          "paper_bgcolor": "white",
          "plot_bgcolor": "#E5ECF6",
          "polar": {
           "bgcolor": "#E5ECF6",
           "angularaxis": {
            "gridcolor": "white",
            "linecolor": "white",
            "ticks": ""
           },
           "radialaxis": {
            "gridcolor": "white",
            "linecolor": "white",
            "ticks": ""
           }
          },
          "ternary": {
           "bgcolor": "#E5ECF6",
           "aaxis": {
            "gridcolor": "white",
            "linecolor": "white",
            "ticks": ""
           },
           "baxis": {
            "gridcolor": "white",
            "linecolor": "white",
            "ticks": ""
           },
           "caxis": {
            "gridcolor": "white",
            "linecolor": "white",
            "ticks": ""
           }
          },
          "coloraxis": {
           "colorbar": {
            "outlinewidth": 0,
            "ticks": ""
           }
          },
          "colorscale": {
           "sequential": [
            [
             0.0,
             "#0d0887"
            ],
            [
             0.1111111111111111,
             "#46039f"
            ],
            [
             0.2222222222222222,
             "#7201a8"
            ],
            [
             0.3333333333333333,
             "#9c179e"
            ],
            [
             0.4444444444444444,
             "#bd3786"
            ],
            [
             0.5555555555555556,
             "#d8576b"
            ],
            [
             0.6666666666666666,
             "#ed7953"
            ],
            [
             0.7777777777777778,
             "#fb9f3a"
            ],
            [
             0.8888888888888888,
             "#fdca26"
            ],
            [
             1.0,
             "#f0f921"
            ]
           ],
           "sequentialminus": [
            [
             0.0,
             "#0d0887"
            ],
            [
             0.1111111111111111,
             "#46039f"
            ],
            [
             0.2222222222222222,
             "#7201a8"
            ],
            [
             0.3333333333333333,
             "#9c179e"
            ],
            [
             0.4444444444444444,
             "#bd3786"
            ],
            [
             0.5555555555555556,
             "#d8576b"
            ],
            [
             0.6666666666666666,
             "#ed7953"
            ],
            [
             0.7777777777777778,
             "#fb9f3a"
            ],
            [
             0.8888888888888888,
             "#fdca26"
            ],
            [
             1.0,
             "#f0f921"
            ]
           ],
           "diverging": [
            [
             0,
             "#8e0152"
            ],
            [
             0.1,
             "#c51b7d"
            ],
            [
             0.2,
             "#de77ae"
            ],
            [
             0.3,
             "#f1b6da"
            ],
            [
             0.4,
             "#fde0ef"
            ],
            [
             0.5,
             "#f7f7f7"
            ],
            [
             0.6,
             "#e6f5d0"
            ],
            [
             0.7,
             "#b8e186"
            ],
            [
             0.8,
             "#7fbc41"
            ],
            [
             0.9,
             "#4d9221"
            ],
            [
             1,
             "#276419"
            ]
           ]
          },
          "xaxis": {
           "gridcolor": "white",
           "linecolor": "white",
           "ticks": "",
           "title": {
            "standoff": 15
           },
           "zerolinecolor": "white",
           "automargin": true,
           "zerolinewidth": 2
          },
          "yaxis": {
           "gridcolor": "white",
           "linecolor": "white",
           "ticks": "",
           "title": {
            "standoff": 15
           },
           "zerolinecolor": "white",
           "automargin": true,
           "zerolinewidth": 2
          },
          "scene": {
           "xaxis": {
            "backgroundcolor": "#E5ECF6",
            "gridcolor": "white",
            "linecolor": "white",
            "showbackground": true,
            "ticks": "",
            "zerolinecolor": "white",
            "gridwidth": 2
           },
           "yaxis": {
            "backgroundcolor": "#E5ECF6",
            "gridcolor": "white",
            "linecolor": "white",
            "showbackground": true,
            "ticks": "",
            "zerolinecolor": "white",
            "gridwidth": 2
           },
           "zaxis": {
            "backgroundcolor": "#E5ECF6",
            "gridcolor": "white",
            "linecolor": "white",
            "showbackground": true,
            "ticks": "",
            "zerolinecolor": "white",
            "gridwidth": 2
           }
          },
          "shapedefaults": {
           "line": {
            "color": "#2a3f5f"
           }
          },
          "annotationdefaults": {
           "arrowcolor": "#2a3f5f",
           "arrowhead": 0,
           "arrowwidth": 1
          },
          "geo": {
           "bgcolor": "white",
           "landcolor": "#E5ECF6",
           "subunitcolor": "white",
           "showland": true,
           "showlakes": true,
           "lakecolor": "white"
          },
          "title": {
           "x": 0.05
          },
          "mapbox": {
           "style": "light"
          }
         }
        },
        "xaxis": {
         "anchor": "y",
         "domain": [
          0.0,
          1.0
         ],
         "title": {
          "text": "Time"
         },
         "tickvals": [
          "00:03",
          "00:48",
          "01:33",
          "02:18",
          "03:03",
          "03:48",
          "16:19",
          "16:28",
          "16:37",
          "16:47",
          "16:56",
          "17:05",
          "18:20",
          "18:29",
          "18:38",
          "18:47",
          "18:56",
          "19:05",
          "19:14",
          "19:24",
          "19:33",
          "19:42"
         ],
         "ticktext": [
          "00:03",
          "00:48",
          "01:33",
          "02:18",
          "03:03",
          "03:48",
          "16:19",
          "16:28",
          "16:37",
          "16:47",
          "16:56",
          "17:05",
          "18:20",
          "18:29",
          "18:38",
          "18:47",
          "18:56",
          "19:05",
          "19:14",
          "19:24",
          "19:33",
          "19:42"
         ]
        },
        "yaxis": {
         "anchor": "x",
         "domain": [
          0.0,
          1.0
         ],
         "title": {
          "text": "Bytes"
         }
        },
        "legend": {
         "tracegroupgap": 0
        },
        "margin": {
         "t": 60
        },
        "title": {
         "text": "Network Activity on 2023-11-14"
        },
        "plot_bgcolor": "#FEF9FF"
       },
       "config": {
        "plotlyServerURL": "https://plot.ly"
       }
      },
      "text/html": "<div>                            <div id=\"6c894e8c-923f-4992-aba7-235316e81c2f\" class=\"plotly-graph-div\" style=\"height:525px; width:100%;\"></div>            <script type=\"text/javascript\">                require([\"plotly\"], function(Plotly) {                    window.PLOTLYENV=window.PLOTLYENV || {};                                    if (document.getElementById(\"6c894e8c-923f-4992-aba7-235316e81c2f\")) {                    Plotly.newPlot(                        \"6c894e8c-923f-4992-aba7-235316e81c2f\",                        [{\"hovertemplate\":\"time=%{x}\\u003cbr\\u003ebytesSent=%{y}\\u003cextra\\u003e\\u003c\\u002fextra\\u003e\",\"legendgroup\":\"\",\"line\":{\"color\":\"#636efa\",\"dash\":\"solid\",\"shape\":\"linear\"},\"marker\":{\"symbol\":\"circle\"},\"mode\":\"lines\",\"name\":\"\",\"orientation\":\"v\",\"showlegend\":false,\"x\":[\"00:03\",\"00:08\",\"00:13\",\"00:18\",\"00:23\",\"00:28\",\"00:33\",\"00:38\",\"00:43\",\"00:48\",\"00:53\",\"00:58\",\"01:03\",\"01:08\",\"01:13\",\"01:18\",\"01:23\",\"01:28\",\"01:33\",\"01:38\",\"01:43\",\"01:48\",\"01:53\",\"01:58\",\"02:03\",\"02:08\",\"02:13\",\"02:18\",\"02:23\",\"02:28\",\"02:33\",\"02:38\",\"02:43\",\"02:48\",\"02:53\",\"02:58\",\"03:03\",\"03:08\",\"03:13\",\"03:18\",\"03:23\",\"03:28\",\"03:33\",\"03:38\",\"03:43\",\"03:48\",\"03:53\",\"03:58\",\"04:03\",\"04:08\",\"04:13\",\"16:16\",\"16:17\",\"16:18\",\"16:19\",\"16:20\",\"16:21\",\"16:22\",\"16:23\",\"16:24\",\"16:25\",\"16:26\",\"16:27\",\"16:28\",\"16:29\",\"16:30\",\"16:31\",\"16:32\",\"16:33\",\"16:34\",\"16:35\",\"16:36\",\"16:37\",\"16:38\",\"16:39\",\"16:40\",\"16:41\",\"16:42\",\"16:43\",\"16:44\",\"16:45\",\"16:47\",\"16:48\",\"16:49\",\"16:50\",\"16:51\",\"16:52\",\"16:53\",\"16:54\",\"16:55\",\"16:56\",\"16:57\",\"16:58\",\"16:59\",\"17:00\",\"17:01\",\"17:02\",\"17:03\",\"17:04\",\"17:05\",\"17:06\",\"17:07\",\"17:08\",\"17:09\",\"17:10\",\"17:11\",\"17:12\",\"17:13\",\"18:20\",\"18:21\",\"18:22\",\"18:23\",\"18:24\",\"18:25\",\"18:26\",\"18:27\",\"18:28\",\"18:29\",\"18:30\",\"18:31\",\"18:32\",\"18:33\",\"18:34\",\"18:35\",\"18:36\",\"18:37\",\"18:38\",\"18:39\",\"18:40\",\"18:41\",\"18:42\",\"18:43\",\"18:44\",\"18:45\",\"18:46\",\"18:47\",\"18:48\",\"18:49\",\"18:50\",\"18:51\",\"18:52\",\"18:53\",\"18:54\",\"18:55\",\"18:56\",\"18:57\",\"18:58\",\"18:59\",\"19:00\",\"19:01\",\"19:02\",\"19:03\",\"19:04\",\"19:05\",\"19:06\",\"19:07\",\"19:08\",\"19:09\",\"19:10\",\"19:11\",\"19:12\",\"19:13\",\"19:14\",\"19:15\",\"19:16\",\"19:17\",\"19:19\",\"19:20\",\"19:21\",\"19:22\",\"19:23\",\"19:24\",\"19:25\",\"19:26\",\"19:27\",\"19:28\",\"19:29\",\"19:30\",\"19:31\",\"19:32\",\"19:33\",\"19:34\",\"19:35\",\"19:36\",\"19:37\",\"19:38\",\"19:39\",\"19:40\",\"19:41\",\"19:42\",\"19:43\"],\"xaxis\":\"x\",\"y\":[299167721,299205858,299212622,299240288,299293245,299333420,299373982,299400693,299420365,299461466,299631505,299657796,299676592,299757531,299763569,299790996,299808808,299835680,299880462,299923885,299930953,300156032,300207673,300236645,300310621,300340519,300346877,300374509,300392603,300420527,300456878,300496169,300502371,300553407,300561164,300745570,300779081,300806885,300813230,300947698,300965622,301177935,301194488,301228808,301356277,301415702,301868087,308240834,317144193,325196918,333243310,4072461,4077686,4103517,4217425,4419930,4462938,4583683,4976251,5051426,5126105,5191569,5238387,5249636,5257682,5277939,5283384,5297750,5351370,5356055,5364617,5387973,5431524,5506512,5720556,5776822,5818062,5849340,6845858,6888971,6944983,6970614,6998325,7018083,7053954,7251601,7765424,8617117,13258165,16998655,22593333,27829377,32277580,36108286,38432111,38632935,38861687,39170506,40246879,40830940,41216569,42147324,42656103,42726485,42910761,43221221,43802672,45109709,45647074,45935798,46929640,48616014,49367012,49773805,49937287,50044309,50100872,50260336,50275451,50334610,50391925,51604314,51610537,51613877,51622151,51625477,51650412,51664926,51677571,51684511,51687470,51711367,51714338,51722960,51727982,52060843,52178652,52332020,52380111,52636669,52762870,52847187,52960237,52998233,53677352,53967313,54059894,54093041,54154750,54200561,54261254,54309551,54320724,54838683,54892079,54941092,54966810,55007999,55012638,55064755,55082284,55090312,55095821,55101620,55125804,55148446,55190618,55354050,55493839,55502196,55581709,55703113,55844079,56454757,57238125,57364929,57409513,57459091,57497774,57554891,58148971,58396964,58654776,58673930,58694972,58737910,59145764,59401978,59452871,59471683,59508750],\"yaxis\":\"y\",\"type\":\"scatter\"},{\"line\":{\"color\":\"#D4C1EC\"},\"mode\":\"lines\",\"name\":\"bytesReceived\",\"x\":[\"00:03\",\"00:08\",\"00:13\",\"00:18\",\"00:23\",\"00:28\",\"00:33\",\"00:38\",\"00:43\",\"00:48\",\"00:53\",\"00:58\",\"01:03\",\"01:08\",\"01:13\",\"01:18\",\"01:23\",\"01:28\",\"01:33\",\"01:38\",\"01:43\",\"01:48\",\"01:53\",\"01:58\",\"02:03\",\"02:08\",\"02:13\",\"02:18\",\"02:23\",\"02:28\",\"02:33\",\"02:38\",\"02:43\",\"02:48\",\"02:53\",\"02:58\",\"03:03\",\"03:08\",\"03:13\",\"03:18\",\"03:23\",\"03:28\",\"03:33\",\"03:38\",\"03:43\",\"03:48\",\"03:53\",\"03:58\",\"04:03\",\"04:08\",\"04:13\",\"16:16\",\"16:17\",\"16:18\",\"16:19\",\"16:20\",\"16:21\",\"16:22\",\"16:23\",\"16:24\",\"16:25\",\"16:26\",\"16:27\",\"16:28\",\"16:29\",\"16:30\",\"16:31\",\"16:32\",\"16:33\",\"16:34\",\"16:35\",\"16:36\",\"16:37\",\"16:38\",\"16:39\",\"16:40\",\"16:41\",\"16:42\",\"16:43\",\"16:44\",\"16:45\",\"16:47\",\"16:48\",\"16:49\",\"16:50\",\"16:51\",\"16:52\",\"16:53\",\"16:54\",\"16:55\",\"16:56\",\"16:57\",\"16:58\",\"16:59\",\"17:00\",\"17:01\",\"17:02\",\"17:03\",\"17:04\",\"17:05\",\"17:06\",\"17:07\",\"17:08\",\"17:09\",\"17:10\",\"17:11\",\"17:12\",\"17:13\",\"18:20\",\"18:21\",\"18:22\",\"18:23\",\"18:24\",\"18:25\",\"18:26\",\"18:27\",\"18:28\",\"18:29\",\"18:30\",\"18:31\",\"18:32\",\"18:33\",\"18:34\",\"18:35\",\"18:36\",\"18:37\",\"18:38\",\"18:39\",\"18:40\",\"18:41\",\"18:42\",\"18:43\",\"18:44\",\"18:45\",\"18:46\",\"18:47\",\"18:48\",\"18:49\",\"18:50\",\"18:51\",\"18:52\",\"18:53\",\"18:54\",\"18:55\",\"18:56\",\"18:57\",\"18:58\",\"18:59\",\"19:00\",\"19:01\",\"19:02\",\"19:03\",\"19:04\",\"19:05\",\"19:06\",\"19:07\",\"19:08\",\"19:09\",\"19:10\",\"19:11\",\"19:12\",\"19:13\",\"19:14\",\"19:15\",\"19:16\",\"19:17\",\"19:19\",\"19:20\",\"19:21\",\"19:22\",\"19:23\",\"19:24\",\"19:25\",\"19:26\",\"19:27\",\"19:28\",\"19:29\",\"19:30\",\"19:31\",\"19:32\",\"19:33\",\"19:34\",\"19:35\",\"19:36\",\"19:37\",\"19:38\",\"19:39\",\"19:40\",\"19:41\",\"19:42\",\"19:43\"],\"y\":[449873740,450272379,450589581,450916267,451147850,451465153,451828806,452158472,452499223,452839489,453326542,453625594,453969222,454305685,454570688,454846412,455127881,455372761,455694686,456020671,456326391,456567533,456853415,457142843,457585404,457926271,458228500,458490994,458844440,459150723,459427316,459668009,459809690,460053788,460249558,460638543,460912146,461124156,461383534,461770512,461993024,462220798,462536019,462790339,463145599,463449202,464153679,470789777,480120867,488537945,535596074,31678552,31710137,31849165,32010373,32543698,32703190,33006252,33436723,33612880,33896614,34078208,34333696,34377134,34416464,34460464,34496145,34545756,34731353,34762925,34804243,35008095,35093691,35429779,35728978,35801215,35857356,35910618,37010870,37106396,37216403,37265776,37321142,37390446,37538904,37657441,39879482,52379704,173548140,279112151,412269105,545238870,667342772,778446779,841724973,842116477,842266679,844868704,854472511,855517572,856933382,862260881,864937172,865099799,866397996,868220358,870393119,938966471,940654834,962123402,1081718727,1386528926,1578277905,1595172452,1595451575,1595580304,1595683419,1598207373,1598230013,1598555351,1599363957,1599427149,1599451501,1599466522,1599490670,1599508439,1599596109,1599676515,1599704299,1599743888,1599763478,1599820263,1599836074,1599861699,1599878051,1600082033,1612014215,1612136129,1614511299,1620542732,1624058817,1626529979,1629516114,1629572494,1643976669,1646292721,1648286360,1648333067,1648647024,1649033952,1649244901,1649314691,1649339303,1656791290,1657251339,1657294850,1657342856,1657389224,1657407775,1657597576,1657632602,1657653386,1657671037,1657689119,1657882958,1657998063,1658028712,1658093727,1661918847,1661949503,1662307467,1664120866,1669203313,1677744595,1684400725,1684839317,1684890689,1684985460,1687431329,1692062400,1699481104,1701287849,1707639712,1707673898,1707710412,1710294622,1714318392,1716694354,1719053157,1719092653,1719151149],\"type\":\"scatter\"},{\"line\":{\"color\":\"#998f8b\"},\"mode\":\"lines\",\"name\":\"bytesSent\",\"x\":[\"00:03\",\"00:08\",\"00:13\",\"00:18\",\"00:23\",\"00:28\",\"00:33\",\"00:38\",\"00:43\",\"00:48\",\"00:53\",\"00:58\",\"01:03\",\"01:08\",\"01:13\",\"01:18\",\"01:23\",\"01:28\",\"01:33\",\"01:38\",\"01:43\",\"01:48\",\"01:53\",\"01:58\",\"02:03\",\"02:08\",\"02:13\",\"02:18\",\"02:23\",\"02:28\",\"02:33\",\"02:38\",\"02:43\",\"02:48\",\"02:53\",\"02:58\",\"03:03\",\"03:08\",\"03:13\",\"03:18\",\"03:23\",\"03:28\",\"03:33\",\"03:38\",\"03:43\",\"03:48\",\"03:53\",\"03:58\",\"04:03\",\"04:08\",\"04:13\",\"16:16\",\"16:17\",\"16:18\",\"16:19\",\"16:20\",\"16:21\",\"16:22\",\"16:23\",\"16:24\",\"16:25\",\"16:26\",\"16:27\",\"16:28\",\"16:29\",\"16:30\",\"16:31\",\"16:32\",\"16:33\",\"16:34\",\"16:35\",\"16:36\",\"16:37\",\"16:38\",\"16:39\",\"16:40\",\"16:41\",\"16:42\",\"16:43\",\"16:44\",\"16:45\",\"16:47\",\"16:48\",\"16:49\",\"16:50\",\"16:51\",\"16:52\",\"16:53\",\"16:54\",\"16:55\",\"16:56\",\"16:57\",\"16:58\",\"16:59\",\"17:00\",\"17:01\",\"17:02\",\"17:03\",\"17:04\",\"17:05\",\"17:06\",\"17:07\",\"17:08\",\"17:09\",\"17:10\",\"17:11\",\"17:12\",\"17:13\",\"18:20\",\"18:21\",\"18:22\",\"18:23\",\"18:24\",\"18:25\",\"18:26\",\"18:27\",\"18:28\",\"18:29\",\"18:30\",\"18:31\",\"18:32\",\"18:33\",\"18:34\",\"18:35\",\"18:36\",\"18:37\",\"18:38\",\"18:39\",\"18:40\",\"18:41\",\"18:42\",\"18:43\",\"18:44\",\"18:45\",\"18:46\",\"18:47\",\"18:48\",\"18:49\",\"18:50\",\"18:51\",\"18:52\",\"18:53\",\"18:54\",\"18:55\",\"18:56\",\"18:57\",\"18:58\",\"18:59\",\"19:00\",\"19:01\",\"19:02\",\"19:03\",\"19:04\",\"19:05\",\"19:06\",\"19:07\",\"19:08\",\"19:09\",\"19:10\",\"19:11\",\"19:12\",\"19:13\",\"19:14\",\"19:15\",\"19:16\",\"19:17\",\"19:19\",\"19:20\",\"19:21\",\"19:22\",\"19:23\",\"19:24\",\"19:25\",\"19:26\",\"19:27\",\"19:28\",\"19:29\",\"19:30\",\"19:31\",\"19:32\",\"19:33\",\"19:34\",\"19:35\",\"19:36\",\"19:37\",\"19:38\",\"19:39\",\"19:40\",\"19:41\",\"19:42\",\"19:43\"],\"y\":[299167721,299205858,299212622,299240288,299293245,299333420,299373982,299400693,299420365,299461466,299631505,299657796,299676592,299757531,299763569,299790996,299808808,299835680,299880462,299923885,299930953,300156032,300207673,300236645,300310621,300340519,300346877,300374509,300392603,300420527,300456878,300496169,300502371,300553407,300561164,300745570,300779081,300806885,300813230,300947698,300965622,301177935,301194488,301228808,301356277,301415702,301868087,308240834,317144193,325196918,333243310,4072461,4077686,4103517,4217425,4419930,4462938,4583683,4976251,5051426,5126105,5191569,5238387,5249636,5257682,5277939,5283384,5297750,5351370,5356055,5364617,5387973,5431524,5506512,5720556,5776822,5818062,5849340,6845858,6888971,6944983,6970614,6998325,7018083,7053954,7251601,7765424,8617117,13258165,16998655,22593333,27829377,32277580,36108286,38432111,38632935,38861687,39170506,40246879,40830940,41216569,42147324,42656103,42726485,42910761,43221221,43802672,45109709,45647074,45935798,46929640,48616014,49367012,49773805,49937287,50044309,50100872,50260336,50275451,50334610,50391925,51604314,51610537,51613877,51622151,51625477,51650412,51664926,51677571,51684511,51687470,51711367,51714338,51722960,51727982,52060843,52178652,52332020,52380111,52636669,52762870,52847187,52960237,52998233,53677352,53967313,54059894,54093041,54154750,54200561,54261254,54309551,54320724,54838683,54892079,54941092,54966810,55007999,55012638,55064755,55082284,55090312,55095821,55101620,55125804,55148446,55190618,55354050,55493839,55502196,55581709,55703113,55844079,56454757,57238125,57364929,57409513,57459091,57497774,57554891,58148971,58396964,58654776,58673930,58694972,58737910,59145764,59401978,59452871,59471683,59508750],\"type\":\"scatter\"}],                        {\"template\":{\"data\":{\"histogram2dcontour\":[{\"type\":\"histogram2dcontour\",\"colorbar\":{\"outlinewidth\":0,\"ticks\":\"\"},\"colorscale\":[[0.0,\"#0d0887\"],[0.1111111111111111,\"#46039f\"],[0.2222222222222222,\"#7201a8\"],[0.3333333333333333,\"#9c179e\"],[0.4444444444444444,\"#bd3786\"],[0.5555555555555556,\"#d8576b\"],[0.6666666666666666,\"#ed7953\"],[0.7777777777777778,\"#fb9f3a\"],[0.8888888888888888,\"#fdca26\"],[1.0,\"#f0f921\"]]}],\"choropleth\":[{\"type\":\"choropleth\",\"colorbar\":{\"outlinewidth\":0,\"ticks\":\"\"}}],\"histogram2d\":[{\"type\":\"histogram2d\",\"colorbar\":{\"outlinewidth\":0,\"ticks\":\"\"},\"colorscale\":[[0.0,\"#0d0887\"],[0.1111111111111111,\"#46039f\"],[0.2222222222222222,\"#7201a8\"],[0.3333333333333333,\"#9c179e\"],[0.4444444444444444,\"#bd3786\"],[0.5555555555555556,\"#d8576b\"],[0.6666666666666666,\"#ed7953\"],[0.7777777777777778,\"#fb9f3a\"],[0.8888888888888888,\"#fdca26\"],[1.0,\"#f0f921\"]]}],\"heatmap\":[{\"type\":\"heatmap\",\"colorbar\":{\"outlinewidth\":0,\"ticks\":\"\"},\"colorscale\":[[0.0,\"#0d0887\"],[0.1111111111111111,\"#46039f\"],[0.2222222222222222,\"#7201a8\"],[0.3333333333333333,\"#9c179e\"],[0.4444444444444444,\"#bd3786\"],[0.5555555555555556,\"#d8576b\"],[0.6666666666666666,\"#ed7953\"],[0.7777777777777778,\"#fb9f3a\"],[0.8888888888888888,\"#fdca26\"],[1.0,\"#f0f921\"]]}],\"heatmapgl\":[{\"type\":\"heatmapgl\",\"colorbar\":{\"outlinewidth\":0,\"ticks\":\"\"},\"colorscale\":[[0.0,\"#0d0887\"],[0.1111111111111111,\"#46039f\"],[0.2222222222222222,\"#7201a8\"],[0.3333333333333333,\"#9c179e\"],[0.4444444444444444,\"#bd3786\"],[0.5555555555555556,\"#d8576b\"],[0.6666666666666666,\"#ed7953\"],[0.7777777777777778,\"#fb9f3a\"],[0.8888888888888888,\"#fdca26\"],[1.0,\"#f0f921\"]]}],\"contourcarpet\":[{\"type\":\"contourcarpet\",\"colorbar\":{\"outlinewidth\":0,\"ticks\":\"\"}}],\"contour\":[{\"type\":\"contour\",\"colorbar\":{\"outlinewidth\":0,\"ticks\":\"\"},\"colorscale\":[[0.0,\"#0d0887\"],[0.1111111111111111,\"#46039f\"],[0.2222222222222222,\"#7201a8\"],[0.3333333333333333,\"#9c179e\"],[0.4444444444444444,\"#bd3786\"],[0.5555555555555556,\"#d8576b\"],[0.6666666666666666,\"#ed7953\"],[0.7777777777777778,\"#fb9f3a\"],[0.8888888888888888,\"#fdca26\"],[1.0,\"#f0f921\"]]}],\"surface\":[{\"type\":\"surface\",\"colorbar\":{\"outlinewidth\":0,\"ticks\":\"\"},\"colorscale\":[[0.0,\"#0d0887\"],[0.1111111111111111,\"#46039f\"],[0.2222222222222222,\"#7201a8\"],[0.3333333333333333,\"#9c179e\"],[0.4444444444444444,\"#bd3786\"],[0.5555555555555556,\"#d8576b\"],[0.6666666666666666,\"#ed7953\"],[0.7777777777777778,\"#fb9f3a\"],[0.8888888888888888,\"#fdca26\"],[1.0,\"#f0f921\"]]}],\"mesh3d\":[{\"type\":\"mesh3d\",\"colorbar\":{\"outlinewidth\":0,\"ticks\":\"\"}}],\"scatter\":[{\"fillpattern\":{\"fillmode\":\"overlay\",\"size\":10,\"solidity\":0.2},\"type\":\"scatter\"}],\"parcoords\":[{\"type\":\"parcoords\",\"line\":{\"colorbar\":{\"outlinewidth\":0,\"ticks\":\"\"}}}],\"scatterpolargl\":[{\"type\":\"scatterpolargl\",\"marker\":{\"colorbar\":{\"outlinewidth\":0,\"ticks\":\"\"}}}],\"bar\":[{\"error_x\":{\"color\":\"#2a3f5f\"},\"error_y\":{\"color\":\"#2a3f5f\"},\"marker\":{\"line\":{\"color\":\"#E5ECF6\",\"width\":0.5},\"pattern\":{\"fillmode\":\"overlay\",\"size\":10,\"solidity\":0.2}},\"type\":\"bar\"}],\"scattergeo\":[{\"type\":\"scattergeo\",\"marker\":{\"colorbar\":{\"outlinewidth\":0,\"ticks\":\"\"}}}],\"scatterpolar\":[{\"type\":\"scatterpolar\",\"marker\":{\"colorbar\":{\"outlinewidth\":0,\"ticks\":\"\"}}}],\"histogram\":[{\"marker\":{\"pattern\":{\"fillmode\":\"overlay\",\"size\":10,\"solidity\":0.2}},\"type\":\"histogram\"}],\"scattergl\":[{\"type\":\"scattergl\",\"marker\":{\"colorbar\":{\"outlinewidth\":0,\"ticks\":\"\"}}}],\"scatter3d\":[{\"type\":\"scatter3d\",\"line\":{\"colorbar\":{\"outlinewidth\":0,\"ticks\":\"\"}},\"marker\":{\"colorbar\":{\"outlinewidth\":0,\"ticks\":\"\"}}}],\"scattermapbox\":[{\"type\":\"scattermapbox\",\"marker\":{\"colorbar\":{\"outlinewidth\":0,\"ticks\":\"\"}}}],\"scatterternary\":[{\"type\":\"scatterternary\",\"marker\":{\"colorbar\":{\"outlinewidth\":0,\"ticks\":\"\"}}}],\"scattercarpet\":[{\"type\":\"scattercarpet\",\"marker\":{\"colorbar\":{\"outlinewidth\":0,\"ticks\":\"\"}}}],\"carpet\":[{\"aaxis\":{\"endlinecolor\":\"#2a3f5f\",\"gridcolor\":\"white\",\"linecolor\":\"white\",\"minorgridcolor\":\"white\",\"startlinecolor\":\"#2a3f5f\"},\"baxis\":{\"endlinecolor\":\"#2a3f5f\",\"gridcolor\":\"white\",\"linecolor\":\"white\",\"minorgridcolor\":\"white\",\"startlinecolor\":\"#2a3f5f\"},\"type\":\"carpet\"}],\"table\":[{\"cells\":{\"fill\":{\"color\":\"#EBF0F8\"},\"line\":{\"color\":\"white\"}},\"header\":{\"fill\":{\"color\":\"#C8D4E3\"},\"line\":{\"color\":\"white\"}},\"type\":\"table\"}],\"barpolar\":[{\"marker\":{\"line\":{\"color\":\"#E5ECF6\",\"width\":0.5},\"pattern\":{\"fillmode\":\"overlay\",\"size\":10,\"solidity\":0.2}},\"type\":\"barpolar\"}],\"pie\":[{\"automargin\":true,\"type\":\"pie\"}]},\"layout\":{\"autotypenumbers\":\"strict\",\"colorway\":[\"#636efa\",\"#EF553B\",\"#00cc96\",\"#ab63fa\",\"#FFA15A\",\"#19d3f3\",\"#FF6692\",\"#B6E880\",\"#FF97FF\",\"#FECB52\"],\"font\":{\"color\":\"#2a3f5f\"},\"hovermode\":\"closest\",\"hoverlabel\":{\"align\":\"left\"},\"paper_bgcolor\":\"white\",\"plot_bgcolor\":\"#E5ECF6\",\"polar\":{\"bgcolor\":\"#E5ECF6\",\"angularaxis\":{\"gridcolor\":\"white\",\"linecolor\":\"white\",\"ticks\":\"\"},\"radialaxis\":{\"gridcolor\":\"white\",\"linecolor\":\"white\",\"ticks\":\"\"}},\"ternary\":{\"bgcolor\":\"#E5ECF6\",\"aaxis\":{\"gridcolor\":\"white\",\"linecolor\":\"white\",\"ticks\":\"\"},\"baxis\":{\"gridcolor\":\"white\",\"linecolor\":\"white\",\"ticks\":\"\"},\"caxis\":{\"gridcolor\":\"white\",\"linecolor\":\"white\",\"ticks\":\"\"}},\"coloraxis\":{\"colorbar\":{\"outlinewidth\":0,\"ticks\":\"\"}},\"colorscale\":{\"sequential\":[[0.0,\"#0d0887\"],[0.1111111111111111,\"#46039f\"],[0.2222222222222222,\"#7201a8\"],[0.3333333333333333,\"#9c179e\"],[0.4444444444444444,\"#bd3786\"],[0.5555555555555556,\"#d8576b\"],[0.6666666666666666,\"#ed7953\"],[0.7777777777777778,\"#fb9f3a\"],[0.8888888888888888,\"#fdca26\"],[1.0,\"#f0f921\"]],\"sequentialminus\":[[0.0,\"#0d0887\"],[0.1111111111111111,\"#46039f\"],[0.2222222222222222,\"#7201a8\"],[0.3333333333333333,\"#9c179e\"],[0.4444444444444444,\"#bd3786\"],[0.5555555555555556,\"#d8576b\"],[0.6666666666666666,\"#ed7953\"],[0.7777777777777778,\"#fb9f3a\"],[0.8888888888888888,\"#fdca26\"],[1.0,\"#f0f921\"]],\"diverging\":[[0,\"#8e0152\"],[0.1,\"#c51b7d\"],[0.2,\"#de77ae\"],[0.3,\"#f1b6da\"],[0.4,\"#fde0ef\"],[0.5,\"#f7f7f7\"],[0.6,\"#e6f5d0\"],[0.7,\"#b8e186\"],[0.8,\"#7fbc41\"],[0.9,\"#4d9221\"],[1,\"#276419\"]]},\"xaxis\":{\"gridcolor\":\"white\",\"linecolor\":\"white\",\"ticks\":\"\",\"title\":{\"standoff\":15},\"zerolinecolor\":\"white\",\"automargin\":true,\"zerolinewidth\":2},\"yaxis\":{\"gridcolor\":\"white\",\"linecolor\":\"white\",\"ticks\":\"\",\"title\":{\"standoff\":15},\"zerolinecolor\":\"white\",\"automargin\":true,\"zerolinewidth\":2},\"scene\":{\"xaxis\":{\"backgroundcolor\":\"#E5ECF6\",\"gridcolor\":\"white\",\"linecolor\":\"white\",\"showbackground\":true,\"ticks\":\"\",\"zerolinecolor\":\"white\",\"gridwidth\":2},\"yaxis\":{\"backgroundcolor\":\"#E5ECF6\",\"gridcolor\":\"white\",\"linecolor\":\"white\",\"showbackground\":true,\"ticks\":\"\",\"zerolinecolor\":\"white\",\"gridwidth\":2},\"zaxis\":{\"backgroundcolor\":\"#E5ECF6\",\"gridcolor\":\"white\",\"linecolor\":\"white\",\"showbackground\":true,\"ticks\":\"\",\"zerolinecolor\":\"white\",\"gridwidth\":2}},\"shapedefaults\":{\"line\":{\"color\":\"#2a3f5f\"}},\"annotationdefaults\":{\"arrowcolor\":\"#2a3f5f\",\"arrowhead\":0,\"arrowwidth\":1},\"geo\":{\"bgcolor\":\"white\",\"landcolor\":\"#E5ECF6\",\"subunitcolor\":\"white\",\"showland\":true,\"showlakes\":true,\"lakecolor\":\"white\"},\"title\":{\"x\":0.05},\"mapbox\":{\"style\":\"light\"}}},\"xaxis\":{\"anchor\":\"y\",\"domain\":[0.0,1.0],\"title\":{\"text\":\"Time\"},\"tickvals\":[\"00:03\",\"00:48\",\"01:33\",\"02:18\",\"03:03\",\"03:48\",\"16:19\",\"16:28\",\"16:37\",\"16:47\",\"16:56\",\"17:05\",\"18:20\",\"18:29\",\"18:38\",\"18:47\",\"18:56\",\"19:05\",\"19:14\",\"19:24\",\"19:33\",\"19:42\"],\"ticktext\":[\"00:03\",\"00:48\",\"01:33\",\"02:18\",\"03:03\",\"03:48\",\"16:19\",\"16:28\",\"16:37\",\"16:47\",\"16:56\",\"17:05\",\"18:20\",\"18:29\",\"18:38\",\"18:47\",\"18:56\",\"19:05\",\"19:14\",\"19:24\",\"19:33\",\"19:42\"]},\"yaxis\":{\"anchor\":\"x\",\"domain\":[0.0,1.0],\"title\":{\"text\":\"Bytes\"}},\"legend\":{\"tracegroupgap\":0},\"margin\":{\"t\":60},\"title\":{\"text\":\"Network Activity on 2023-11-14\"},\"plot_bgcolor\":\"#FEF9FF\"},                        {\"responsive\": true}                    ).then(function(){\n                            \nvar gd = document.getElementById('6c894e8c-923f-4992-aba7-235316e81c2f');\nvar x = new MutationObserver(function (mutations, observer) {{\n        var display = window.getComputedStyle(gd).display;\n        if (!display || display === 'none') {{\n            console.log([gd, 'removed!']);\n            Plotly.purge(gd);\n            observer.disconnect();\n        }}\n}});\n\n// Listen for the removal of the full notebook cells\nvar notebookContainer = gd.closest('#notebook-container');\nif (notebookContainer) {{\n    x.observe(notebookContainer, {childList: true});\n}}\n\n// Listen for the clearing of the current output cell\nvar outputEl = gd.closest('.output');\nif (outputEl) {{\n    x.observe(outputEl, {childList: true});\n}}\n\n                        })                };                });            </script>        </div>"
     },
     "metadata": {},
     "output_type": "display_data"
    },
    {
     "data": {
      "application/vnd.plotly.v1+json": {
       "data": [
        {
         "hovertemplate": "time=%{x}<br>Number of Running Processes=%{y}<extra></extra>",
         "legendgroup": "",
         "line": {
          "color": "#BAB0ED",
          "dash": "solid"
         },
         "marker": {
          "symbol": "circle"
         },
         "mode": "lines+markers",
         "name": "",
         "orientation": "v",
         "showlegend": false,
         "x": [
          "00:03",
          "00:08",
          "00:13",
          "00:18",
          "00:23",
          "00:28",
          "00:33",
          "00:38",
          "00:43",
          "00:48",
          "00:53",
          "00:58",
          "01:03",
          "01:08",
          "01:13",
          "01:18",
          "01:23",
          "01:28",
          "01:33",
          "01:38",
          "01:43",
          "01:48",
          "01:53",
          "01:58",
          "02:03",
          "02:08",
          "02:13",
          "02:18",
          "02:23",
          "02:28",
          "02:33",
          "02:38",
          "02:43",
          "02:48",
          "02:53",
          "02:58",
          "03:03",
          "03:08",
          "03:13",
          "03:18",
          "03:23",
          "03:28",
          "03:33",
          "03:38",
          "03:43",
          "03:48",
          "03:53",
          "03:58",
          "04:03",
          "04:08",
          "04:13",
          "16:16",
          "16:17",
          "16:18",
          "16:19",
          "16:20",
          "16:21",
          "16:22",
          "16:23",
          "16:24",
          "16:25",
          "16:26",
          "16:27",
          "16:28",
          "16:29",
          "16:30",
          "16:31",
          "16:32",
          "16:33",
          "16:34",
          "16:35",
          "16:36",
          "16:37",
          "16:38",
          "16:39",
          "16:40",
          "16:41",
          "16:42",
          "16:43",
          "16:44",
          "16:45",
          "16:47",
          "16:48",
          "16:49",
          "16:50",
          "16:51",
          "16:52",
          "16:53",
          "16:54",
          "16:55",
          "16:56",
          "16:57",
          "16:58",
          "16:59",
          "17:00",
          "17:01",
          "17:02",
          "17:03",
          "17:04",
          "17:05",
          "17:06",
          "17:07",
          "17:08",
          "17:09",
          "17:10",
          "17:11",
          "17:12",
          "17:13",
          "18:20",
          "18:21",
          "18:22",
          "18:23",
          "18:24",
          "18:25",
          "18:26",
          "18:27",
          "18:28",
          "18:29",
          "18:30",
          "18:31",
          "18:32",
          "18:33",
          "18:34",
          "18:35",
          "18:36",
          "18:37",
          "18:38",
          "18:39",
          "18:40",
          "18:41",
          "18:42",
          "18:43",
          "18:44",
          "18:45",
          "18:46",
          "18:47",
          "18:48",
          "18:49",
          "18:50",
          "18:51",
          "18:52",
          "18:53",
          "18:54",
          "18:55",
          "18:56",
          "18:57",
          "18:58",
          "18:59",
          "19:00",
          "19:01",
          "19:02",
          "19:03",
          "19:04",
          "19:05",
          "19:06",
          "19:07",
          "19:08",
          "19:09",
          "19:10",
          "19:11",
          "19:12",
          "19:13",
          "19:14",
          "19:15",
          "19:16",
          "19:17",
          "19:19",
          "19:20",
          "19:21",
          "19:22",
          "19:23",
          "19:24",
          "19:25",
          "19:26",
          "19:27",
          "19:28",
          "19:29",
          "19:30",
          "19:31",
          "19:32",
          "19:33",
          "19:34",
          "19:35",
          "19:36",
          "19:37",
          "19:38",
          "19:39",
          "19:40",
          "19:41",
          "19:42",
          "19:43"
         ],
         "xaxis": "x",
         "y": [
          100,
          100,
          100,
          100,
          100,
          100,
          100,
          100,
          100,
          103,
          100,
          100,
          100,
          100,
          100,
          100,
          100,
          100,
          100,
          100,
          100,
          101,
          100,
          100,
          100,
          100,
          100,
          100,
          100,
          100,
          100,
          100,
          100,
          100,
          100,
          100,
          100,
          100,
          100,
          100,
          100,
          100,
          100,
          100,
          100,
          100,
          101,
          100,
          100,
          101,
          105,
          104,
          104,
          105,
          106,
          106,
          106,
          110,
          108,
          107,
          106,
          105,
          105,
          105,
          105,
          105,
          105,
          105,
          106,
          105,
          106,
          105,
          105,
          106,
          106,
          106,
          106,
          106,
          107,
          107,
          107,
          106,
          106,
          107,
          107,
          109,
          113,
          109,
          111,
          111,
          111,
          110,
          110,
          110,
          110,
          111,
          111,
          110,
          110,
          112,
          111,
          108,
          108,
          108,
          108,
          111,
          111,
          111,
          115,
          111,
          111,
          111,
          111,
          113,
          113,
          114,
          116,
          120,
          115,
          115,
          114,
          114,
          114,
          113,
          112,
          112,
          113,
          113,
          112,
          113,
          114,
          114,
          114,
          114,
          113,
          110,
          110,
          110,
          108,
          108,
          108,
          108,
          108,
          108,
          108,
          108,
          108,
          108,
          108,
          108,
          109,
          109,
          108,
          108,
          108,
          109,
          108,
          109,
          108,
          108,
          108,
          108,
          108,
          108,
          108,
          108,
          108,
          108,
          108,
          108,
          108,
          111,
          111,
          112,
          111,
          111,
          110,
          109,
          109,
          109,
          109,
          109,
          109,
          109,
          109,
          109,
          109,
          109,
          109,
          109,
          109
         ],
         "yaxis": "y",
         "type": "scatter"
        }
       ],
       "layout": {
        "template": {
         "data": {
          "histogram2dcontour": [
           {
            "type": "histogram2dcontour",
            "colorbar": {
             "outlinewidth": 0,
             "ticks": ""
            },
            "colorscale": [
             [
              0.0,
              "#0d0887"
             ],
             [
              0.1111111111111111,
              "#46039f"
             ],
             [
              0.2222222222222222,
              "#7201a8"
             ],
             [
              0.3333333333333333,
              "#9c179e"
             ],
             [
              0.4444444444444444,
              "#bd3786"
             ],
             [
              0.5555555555555556,
              "#d8576b"
             ],
             [
              0.6666666666666666,
              "#ed7953"
             ],
             [
              0.7777777777777778,
              "#fb9f3a"
             ],
             [
              0.8888888888888888,
              "#fdca26"
             ],
             [
              1.0,
              "#f0f921"
             ]
            ]
           }
          ],
          "choropleth": [
           {
            "type": "choropleth",
            "colorbar": {
             "outlinewidth": 0,
             "ticks": ""
            }
           }
          ],
          "histogram2d": [
           {
            "type": "histogram2d",
            "colorbar": {
             "outlinewidth": 0,
             "ticks": ""
            },
            "colorscale": [
             [
              0.0,
              "#0d0887"
             ],
             [
              0.1111111111111111,
              "#46039f"
             ],
             [
              0.2222222222222222,
              "#7201a8"
             ],
             [
              0.3333333333333333,
              "#9c179e"
             ],
             [
              0.4444444444444444,
              "#bd3786"
             ],
             [
              0.5555555555555556,
              "#d8576b"
             ],
             [
              0.6666666666666666,
              "#ed7953"
             ],
             [
              0.7777777777777778,
              "#fb9f3a"
             ],
             [
              0.8888888888888888,
              "#fdca26"
             ],
             [
              1.0,
              "#f0f921"
             ]
            ]
           }
          ],
          "heatmap": [
           {
            "type": "heatmap",
            "colorbar": {
             "outlinewidth": 0,
             "ticks": ""
            },
            "colorscale": [
             [
              0.0,
              "#0d0887"
             ],
             [
              0.1111111111111111,
              "#46039f"
             ],
             [
              0.2222222222222222,
              "#7201a8"
             ],
             [
              0.3333333333333333,
              "#9c179e"
             ],
             [
              0.4444444444444444,
              "#bd3786"
             ],
             [
              0.5555555555555556,
              "#d8576b"
             ],
             [
              0.6666666666666666,
              "#ed7953"
             ],
             [
              0.7777777777777778,
              "#fb9f3a"
             ],
             [
              0.8888888888888888,
              "#fdca26"
             ],
             [
              1.0,
              "#f0f921"
             ]
            ]
           }
          ],
          "heatmapgl": [
           {
            "type": "heatmapgl",
            "colorbar": {
             "outlinewidth": 0,
             "ticks": ""
            },
            "colorscale": [
             [
              0.0,
              "#0d0887"
             ],
             [
              0.1111111111111111,
              "#46039f"
             ],
             [
              0.2222222222222222,
              "#7201a8"
             ],
             [
              0.3333333333333333,
              "#9c179e"
             ],
             [
              0.4444444444444444,
              "#bd3786"
             ],
             [
              0.5555555555555556,
              "#d8576b"
             ],
             [
              0.6666666666666666,
              "#ed7953"
             ],
             [
              0.7777777777777778,
              "#fb9f3a"
             ],
             [
              0.8888888888888888,
              "#fdca26"
             ],
             [
              1.0,
              "#f0f921"
             ]
            ]
           }
          ],
          "contourcarpet": [
           {
            "type": "contourcarpet",
            "colorbar": {
             "outlinewidth": 0,
             "ticks": ""
            }
           }
          ],
          "contour": [
           {
            "type": "contour",
            "colorbar": {
             "outlinewidth": 0,
             "ticks": ""
            },
            "colorscale": [
             [
              0.0,
              "#0d0887"
             ],
             [
              0.1111111111111111,
              "#46039f"
             ],
             [
              0.2222222222222222,
              "#7201a8"
             ],
             [
              0.3333333333333333,
              "#9c179e"
             ],
             [
              0.4444444444444444,
              "#bd3786"
             ],
             [
              0.5555555555555556,
              "#d8576b"
             ],
             [
              0.6666666666666666,
              "#ed7953"
             ],
             [
              0.7777777777777778,
              "#fb9f3a"
             ],
             [
              0.8888888888888888,
              "#fdca26"
             ],
             [
              1.0,
              "#f0f921"
             ]
            ]
           }
          ],
          "surface": [
           {
            "type": "surface",
            "colorbar": {
             "outlinewidth": 0,
             "ticks": ""
            },
            "colorscale": [
             [
              0.0,
              "#0d0887"
             ],
             [
              0.1111111111111111,
              "#46039f"
             ],
             [
              0.2222222222222222,
              "#7201a8"
             ],
             [
              0.3333333333333333,
              "#9c179e"
             ],
             [
              0.4444444444444444,
              "#bd3786"
             ],
             [
              0.5555555555555556,
              "#d8576b"
             ],
             [
              0.6666666666666666,
              "#ed7953"
             ],
             [
              0.7777777777777778,
              "#fb9f3a"
             ],
             [
              0.8888888888888888,
              "#fdca26"
             ],
             [
              1.0,
              "#f0f921"
             ]
            ]
           }
          ],
          "mesh3d": [
           {
            "type": "mesh3d",
            "colorbar": {
             "outlinewidth": 0,
             "ticks": ""
            }
           }
          ],
          "scatter": [
           {
            "fillpattern": {
             "fillmode": "overlay",
             "size": 10,
             "solidity": 0.2
            },
            "type": "scatter"
           }
          ],
          "parcoords": [
           {
            "type": "parcoords",
            "line": {
             "colorbar": {
              "outlinewidth": 0,
              "ticks": ""
             }
            }
           }
          ],
          "scatterpolargl": [
           {
            "type": "scatterpolargl",
            "marker": {
             "colorbar": {
              "outlinewidth": 0,
              "ticks": ""
             }
            }
           }
          ],
          "bar": [
           {
            "error_x": {
             "color": "#2a3f5f"
            },
            "error_y": {
             "color": "#2a3f5f"
            },
            "marker": {
             "line": {
              "color": "#E5ECF6",
              "width": 0.5
             },
             "pattern": {
              "fillmode": "overlay",
              "size": 10,
              "solidity": 0.2
             }
            },
            "type": "bar"
           }
          ],
          "scattergeo": [
           {
            "type": "scattergeo",
            "marker": {
             "colorbar": {
              "outlinewidth": 0,
              "ticks": ""
             }
            }
           }
          ],
          "scatterpolar": [
           {
            "type": "scatterpolar",
            "marker": {
             "colorbar": {
              "outlinewidth": 0,
              "ticks": ""
             }
            }
           }
          ],
          "histogram": [
           {
            "marker": {
             "pattern": {
              "fillmode": "overlay",
              "size": 10,
              "solidity": 0.2
             }
            },
            "type": "histogram"
           }
          ],
          "scattergl": [
           {
            "type": "scattergl",
            "marker": {
             "colorbar": {
              "outlinewidth": 0,
              "ticks": ""
             }
            }
           }
          ],
          "scatter3d": [
           {
            "type": "scatter3d",
            "line": {
             "colorbar": {
              "outlinewidth": 0,
              "ticks": ""
             }
            },
            "marker": {
             "colorbar": {
              "outlinewidth": 0,
              "ticks": ""
             }
            }
           }
          ],
          "scattermapbox": [
           {
            "type": "scattermapbox",
            "marker": {
             "colorbar": {
              "outlinewidth": 0,
              "ticks": ""
             }
            }
           }
          ],
          "scatterternary": [
           {
            "type": "scatterternary",
            "marker": {
             "colorbar": {
              "outlinewidth": 0,
              "ticks": ""
             }
            }
           }
          ],
          "scattercarpet": [
           {
            "type": "scattercarpet",
            "marker": {
             "colorbar": {
              "outlinewidth": 0,
              "ticks": ""
             }
            }
           }
          ],
          "carpet": [
           {
            "aaxis": {
             "endlinecolor": "#2a3f5f",
             "gridcolor": "white",
             "linecolor": "white",
             "minorgridcolor": "white",
             "startlinecolor": "#2a3f5f"
            },
            "baxis": {
             "endlinecolor": "#2a3f5f",
             "gridcolor": "white",
             "linecolor": "white",
             "minorgridcolor": "white",
             "startlinecolor": "#2a3f5f"
            },
            "type": "carpet"
           }
          ],
          "table": [
           {
            "cells": {
             "fill": {
              "color": "#EBF0F8"
             },
             "line": {
              "color": "white"
             }
            },
            "header": {
             "fill": {
              "color": "#C8D4E3"
             },
             "line": {
              "color": "white"
             }
            },
            "type": "table"
           }
          ],
          "barpolar": [
           {
            "marker": {
             "line": {
              "color": "#E5ECF6",
              "width": 0.5
             },
             "pattern": {
              "fillmode": "overlay",
              "size": 10,
              "solidity": 0.2
             }
            },
            "type": "barpolar"
           }
          ],
          "pie": [
           {
            "automargin": true,
            "type": "pie"
           }
          ]
         },
         "layout": {
          "autotypenumbers": "strict",
          "colorway": [
           "#636efa",
           "#EF553B",
           "#00cc96",
           "#ab63fa",
           "#FFA15A",
           "#19d3f3",
           "#FF6692",
           "#B6E880",
           "#FF97FF",
           "#FECB52"
          ],
          "font": {
           "color": "#2a3f5f"
          },
          "hovermode": "closest",
          "hoverlabel": {
           "align": "left"
          },
          "paper_bgcolor": "white",
          "plot_bgcolor": "#E5ECF6",
          "polar": {
           "bgcolor": "#E5ECF6",
           "angularaxis": {
            "gridcolor": "white",
            "linecolor": "white",
            "ticks": ""
           },
           "radialaxis": {
            "gridcolor": "white",
            "linecolor": "white",
            "ticks": ""
           }
          },
          "ternary": {
           "bgcolor": "#E5ECF6",
           "aaxis": {
            "gridcolor": "white",
            "linecolor": "white",
            "ticks": ""
           },
           "baxis": {
            "gridcolor": "white",
            "linecolor": "white",
            "ticks": ""
           },
           "caxis": {
            "gridcolor": "white",
            "linecolor": "white",
            "ticks": ""
           }
          },
          "coloraxis": {
           "colorbar": {
            "outlinewidth": 0,
            "ticks": ""
           }
          },
          "colorscale": {
           "sequential": [
            [
             0.0,
             "#0d0887"
            ],
            [
             0.1111111111111111,
             "#46039f"
            ],
            [
             0.2222222222222222,
             "#7201a8"
            ],
            [
             0.3333333333333333,
             "#9c179e"
            ],
            [
             0.4444444444444444,
             "#bd3786"
            ],
            [
             0.5555555555555556,
             "#d8576b"
            ],
            [
             0.6666666666666666,
             "#ed7953"
            ],
            [
             0.7777777777777778,
             "#fb9f3a"
            ],
            [
             0.8888888888888888,
             "#fdca26"
            ],
            [
             1.0,
             "#f0f921"
            ]
           ],
           "sequentialminus": [
            [
             0.0,
             "#0d0887"
            ],
            [
             0.1111111111111111,
             "#46039f"
            ],
            [
             0.2222222222222222,
             "#7201a8"
            ],
            [
             0.3333333333333333,
             "#9c179e"
            ],
            [
             0.4444444444444444,
             "#bd3786"
            ],
            [
             0.5555555555555556,
             "#d8576b"
            ],
            [
             0.6666666666666666,
             "#ed7953"
            ],
            [
             0.7777777777777778,
             "#fb9f3a"
            ],
            [
             0.8888888888888888,
             "#fdca26"
            ],
            [
             1.0,
             "#f0f921"
            ]
           ],
           "diverging": [
            [
             0,
             "#8e0152"
            ],
            [
             0.1,
             "#c51b7d"
            ],
            [
             0.2,
             "#de77ae"
            ],
            [
             0.3,
             "#f1b6da"
            ],
            [
             0.4,
             "#fde0ef"
            ],
            [
             0.5,
             "#f7f7f7"
            ],
            [
             0.6,
             "#e6f5d0"
            ],
            [
             0.7,
             "#b8e186"
            ],
            [
             0.8,
             "#7fbc41"
            ],
            [
             0.9,
             "#4d9221"
            ],
            [
             1,
             "#276419"
            ]
           ]
          },
          "xaxis": {
           "gridcolor": "white",
           "linecolor": "white",
           "ticks": "",
           "title": {
            "standoff": 15
           },
           "zerolinecolor": "white",
           "automargin": true,
           "zerolinewidth": 2
          },
          "yaxis": {
           "gridcolor": "white",
           "linecolor": "white",
           "ticks": "",
           "title": {
            "standoff": 15
           },
           "zerolinecolor": "white",
           "automargin": true,
           "zerolinewidth": 2
          },
          "scene": {
           "xaxis": {
            "backgroundcolor": "#E5ECF6",
            "gridcolor": "white",
            "linecolor": "white",
            "showbackground": true,
            "ticks": "",
            "zerolinecolor": "white",
            "gridwidth": 2
           },
           "yaxis": {
            "backgroundcolor": "#E5ECF6",
            "gridcolor": "white",
            "linecolor": "white",
            "showbackground": true,
            "ticks": "",
            "zerolinecolor": "white",
            "gridwidth": 2
           },
           "zaxis": {
            "backgroundcolor": "#E5ECF6",
            "gridcolor": "white",
            "linecolor": "white",
            "showbackground": true,
            "ticks": "",
            "zerolinecolor": "white",
            "gridwidth": 2
           }
          },
          "shapedefaults": {
           "line": {
            "color": "#2a3f5f"
           }
          },
          "annotationdefaults": {
           "arrowcolor": "#2a3f5f",
           "arrowhead": 0,
           "arrowwidth": 1
          },
          "geo": {
           "bgcolor": "white",
           "landcolor": "#E5ECF6",
           "subunitcolor": "white",
           "showland": true,
           "showlakes": true,
           "lakecolor": "white"
          },
          "title": {
           "x": 0.05
          },
          "mapbox": {
           "style": "light"
          }
         }
        },
        "xaxis": {
         "anchor": "y",
         "domain": [
          0.0,
          1.0
         ],
         "title": {
          "text": "Time"
         },
         "tickvals": [
          "00:03",
          "00:48",
          "01:33",
          "02:18",
          "03:03",
          "03:48",
          "16:19",
          "16:28",
          "16:37",
          "16:47",
          "16:56",
          "17:05",
          "18:20",
          "18:29",
          "18:38",
          "18:47",
          "18:56",
          "19:05",
          "19:14",
          "19:24",
          "19:33",
          "19:42"
         ],
         "ticktext": [
          "00:03",
          "00:48",
          "01:33",
          "02:18",
          "03:03",
          "03:48",
          "16:19",
          "16:28",
          "16:37",
          "16:47",
          "16:56",
          "17:05",
          "18:20",
          "18:29",
          "18:38",
          "18:47",
          "18:56",
          "19:05",
          "19:14",
          "19:24",
          "19:33",
          "19:42"
         ]
        },
        "yaxis": {
         "anchor": "x",
         "domain": [
          0.0,
          1.0
         ],
         "title": {
          "text": "Number of Running Processes"
         }
        },
        "legend": {
         "tracegroupgap": 0
        },
        "margin": {
         "t": 60
        },
        "title": {
         "text": "Running Processes on 2023-11-14"
        },
        "plot_bgcolor": "#FEF9FF"
       },
       "config": {
        "plotlyServerURL": "https://plot.ly"
       }
      },
      "text/html": "<div>                            <div id=\"95c0de23-3c93-4d85-a204-bc93dc579f33\" class=\"plotly-graph-div\" style=\"height:525px; width:100%;\"></div>            <script type=\"text/javascript\">                require([\"plotly\"], function(Plotly) {                    window.PLOTLYENV=window.PLOTLYENV || {};                                    if (document.getElementById(\"95c0de23-3c93-4d85-a204-bc93dc579f33\")) {                    Plotly.newPlot(                        \"95c0de23-3c93-4d85-a204-bc93dc579f33\",                        [{\"hovertemplate\":\"time=%{x}\\u003cbr\\u003eNumber of Running Processes=%{y}\\u003cextra\\u003e\\u003c\\u002fextra\\u003e\",\"legendgroup\":\"\",\"line\":{\"color\":\"#BAB0ED\",\"dash\":\"solid\"},\"marker\":{\"symbol\":\"circle\"},\"mode\":\"lines+markers\",\"name\":\"\",\"orientation\":\"v\",\"showlegend\":false,\"x\":[\"00:03\",\"00:08\",\"00:13\",\"00:18\",\"00:23\",\"00:28\",\"00:33\",\"00:38\",\"00:43\",\"00:48\",\"00:53\",\"00:58\",\"01:03\",\"01:08\",\"01:13\",\"01:18\",\"01:23\",\"01:28\",\"01:33\",\"01:38\",\"01:43\",\"01:48\",\"01:53\",\"01:58\",\"02:03\",\"02:08\",\"02:13\",\"02:18\",\"02:23\",\"02:28\",\"02:33\",\"02:38\",\"02:43\",\"02:48\",\"02:53\",\"02:58\",\"03:03\",\"03:08\",\"03:13\",\"03:18\",\"03:23\",\"03:28\",\"03:33\",\"03:38\",\"03:43\",\"03:48\",\"03:53\",\"03:58\",\"04:03\",\"04:08\",\"04:13\",\"16:16\",\"16:17\",\"16:18\",\"16:19\",\"16:20\",\"16:21\",\"16:22\",\"16:23\",\"16:24\",\"16:25\",\"16:26\",\"16:27\",\"16:28\",\"16:29\",\"16:30\",\"16:31\",\"16:32\",\"16:33\",\"16:34\",\"16:35\",\"16:36\",\"16:37\",\"16:38\",\"16:39\",\"16:40\",\"16:41\",\"16:42\",\"16:43\",\"16:44\",\"16:45\",\"16:47\",\"16:48\",\"16:49\",\"16:50\",\"16:51\",\"16:52\",\"16:53\",\"16:54\",\"16:55\",\"16:56\",\"16:57\",\"16:58\",\"16:59\",\"17:00\",\"17:01\",\"17:02\",\"17:03\",\"17:04\",\"17:05\",\"17:06\",\"17:07\",\"17:08\",\"17:09\",\"17:10\",\"17:11\",\"17:12\",\"17:13\",\"18:20\",\"18:21\",\"18:22\",\"18:23\",\"18:24\",\"18:25\",\"18:26\",\"18:27\",\"18:28\",\"18:29\",\"18:30\",\"18:31\",\"18:32\",\"18:33\",\"18:34\",\"18:35\",\"18:36\",\"18:37\",\"18:38\",\"18:39\",\"18:40\",\"18:41\",\"18:42\",\"18:43\",\"18:44\",\"18:45\",\"18:46\",\"18:47\",\"18:48\",\"18:49\",\"18:50\",\"18:51\",\"18:52\",\"18:53\",\"18:54\",\"18:55\",\"18:56\",\"18:57\",\"18:58\",\"18:59\",\"19:00\",\"19:01\",\"19:02\",\"19:03\",\"19:04\",\"19:05\",\"19:06\",\"19:07\",\"19:08\",\"19:09\",\"19:10\",\"19:11\",\"19:12\",\"19:13\",\"19:14\",\"19:15\",\"19:16\",\"19:17\",\"19:19\",\"19:20\",\"19:21\",\"19:22\",\"19:23\",\"19:24\",\"19:25\",\"19:26\",\"19:27\",\"19:28\",\"19:29\",\"19:30\",\"19:31\",\"19:32\",\"19:33\",\"19:34\",\"19:35\",\"19:36\",\"19:37\",\"19:38\",\"19:39\",\"19:40\",\"19:41\",\"19:42\",\"19:43\"],\"xaxis\":\"x\",\"y\":[100,100,100,100,100,100,100,100,100,103,100,100,100,100,100,100,100,100,100,100,100,101,100,100,100,100,100,100,100,100,100,100,100,100,100,100,100,100,100,100,100,100,100,100,100,100,101,100,100,101,105,104,104,105,106,106,106,110,108,107,106,105,105,105,105,105,105,105,106,105,106,105,105,106,106,106,106,106,107,107,107,106,106,107,107,109,113,109,111,111,111,110,110,110,110,111,111,110,110,112,111,108,108,108,108,111,111,111,115,111,111,111,111,113,113,114,116,120,115,115,114,114,114,113,112,112,113,113,112,113,114,114,114,114,113,110,110,110,108,108,108,108,108,108,108,108,108,108,108,108,109,109,108,108,108,109,108,109,108,108,108,108,108,108,108,108,108,108,108,108,108,111,111,112,111,111,110,109,109,109,109,109,109,109,109,109,109,109,109,109,109],\"yaxis\":\"y\",\"type\":\"scatter\"}],                        {\"template\":{\"data\":{\"histogram2dcontour\":[{\"type\":\"histogram2dcontour\",\"colorbar\":{\"outlinewidth\":0,\"ticks\":\"\"},\"colorscale\":[[0.0,\"#0d0887\"],[0.1111111111111111,\"#46039f\"],[0.2222222222222222,\"#7201a8\"],[0.3333333333333333,\"#9c179e\"],[0.4444444444444444,\"#bd3786\"],[0.5555555555555556,\"#d8576b\"],[0.6666666666666666,\"#ed7953\"],[0.7777777777777778,\"#fb9f3a\"],[0.8888888888888888,\"#fdca26\"],[1.0,\"#f0f921\"]]}],\"choropleth\":[{\"type\":\"choropleth\",\"colorbar\":{\"outlinewidth\":0,\"ticks\":\"\"}}],\"histogram2d\":[{\"type\":\"histogram2d\",\"colorbar\":{\"outlinewidth\":0,\"ticks\":\"\"},\"colorscale\":[[0.0,\"#0d0887\"],[0.1111111111111111,\"#46039f\"],[0.2222222222222222,\"#7201a8\"],[0.3333333333333333,\"#9c179e\"],[0.4444444444444444,\"#bd3786\"],[0.5555555555555556,\"#d8576b\"],[0.6666666666666666,\"#ed7953\"],[0.7777777777777778,\"#fb9f3a\"],[0.8888888888888888,\"#fdca26\"],[1.0,\"#f0f921\"]]}],\"heatmap\":[{\"type\":\"heatmap\",\"colorbar\":{\"outlinewidth\":0,\"ticks\":\"\"},\"colorscale\":[[0.0,\"#0d0887\"],[0.1111111111111111,\"#46039f\"],[0.2222222222222222,\"#7201a8\"],[0.3333333333333333,\"#9c179e\"],[0.4444444444444444,\"#bd3786\"],[0.5555555555555556,\"#d8576b\"],[0.6666666666666666,\"#ed7953\"],[0.7777777777777778,\"#fb9f3a\"],[0.8888888888888888,\"#fdca26\"],[1.0,\"#f0f921\"]]}],\"heatmapgl\":[{\"type\":\"heatmapgl\",\"colorbar\":{\"outlinewidth\":0,\"ticks\":\"\"},\"colorscale\":[[0.0,\"#0d0887\"],[0.1111111111111111,\"#46039f\"],[0.2222222222222222,\"#7201a8\"],[0.3333333333333333,\"#9c179e\"],[0.4444444444444444,\"#bd3786\"],[0.5555555555555556,\"#d8576b\"],[0.6666666666666666,\"#ed7953\"],[0.7777777777777778,\"#fb9f3a\"],[0.8888888888888888,\"#fdca26\"],[1.0,\"#f0f921\"]]}],\"contourcarpet\":[{\"type\":\"contourcarpet\",\"colorbar\":{\"outlinewidth\":0,\"ticks\":\"\"}}],\"contour\":[{\"type\":\"contour\",\"colorbar\":{\"outlinewidth\":0,\"ticks\":\"\"},\"colorscale\":[[0.0,\"#0d0887\"],[0.1111111111111111,\"#46039f\"],[0.2222222222222222,\"#7201a8\"],[0.3333333333333333,\"#9c179e\"],[0.4444444444444444,\"#bd3786\"],[0.5555555555555556,\"#d8576b\"],[0.6666666666666666,\"#ed7953\"],[0.7777777777777778,\"#fb9f3a\"],[0.8888888888888888,\"#fdca26\"],[1.0,\"#f0f921\"]]}],\"surface\":[{\"type\":\"surface\",\"colorbar\":{\"outlinewidth\":0,\"ticks\":\"\"},\"colorscale\":[[0.0,\"#0d0887\"],[0.1111111111111111,\"#46039f\"],[0.2222222222222222,\"#7201a8\"],[0.3333333333333333,\"#9c179e\"],[0.4444444444444444,\"#bd3786\"],[0.5555555555555556,\"#d8576b\"],[0.6666666666666666,\"#ed7953\"],[0.7777777777777778,\"#fb9f3a\"],[0.8888888888888888,\"#fdca26\"],[1.0,\"#f0f921\"]]}],\"mesh3d\":[{\"type\":\"mesh3d\",\"colorbar\":{\"outlinewidth\":0,\"ticks\":\"\"}}],\"scatter\":[{\"fillpattern\":{\"fillmode\":\"overlay\",\"size\":10,\"solidity\":0.2},\"type\":\"scatter\"}],\"parcoords\":[{\"type\":\"parcoords\",\"line\":{\"colorbar\":{\"outlinewidth\":0,\"ticks\":\"\"}}}],\"scatterpolargl\":[{\"type\":\"scatterpolargl\",\"marker\":{\"colorbar\":{\"outlinewidth\":0,\"ticks\":\"\"}}}],\"bar\":[{\"error_x\":{\"color\":\"#2a3f5f\"},\"error_y\":{\"color\":\"#2a3f5f\"},\"marker\":{\"line\":{\"color\":\"#E5ECF6\",\"width\":0.5},\"pattern\":{\"fillmode\":\"overlay\",\"size\":10,\"solidity\":0.2}},\"type\":\"bar\"}],\"scattergeo\":[{\"type\":\"scattergeo\",\"marker\":{\"colorbar\":{\"outlinewidth\":0,\"ticks\":\"\"}}}],\"scatterpolar\":[{\"type\":\"scatterpolar\",\"marker\":{\"colorbar\":{\"outlinewidth\":0,\"ticks\":\"\"}}}],\"histogram\":[{\"marker\":{\"pattern\":{\"fillmode\":\"overlay\",\"size\":10,\"solidity\":0.2}},\"type\":\"histogram\"}],\"scattergl\":[{\"type\":\"scattergl\",\"marker\":{\"colorbar\":{\"outlinewidth\":0,\"ticks\":\"\"}}}],\"scatter3d\":[{\"type\":\"scatter3d\",\"line\":{\"colorbar\":{\"outlinewidth\":0,\"ticks\":\"\"}},\"marker\":{\"colorbar\":{\"outlinewidth\":0,\"ticks\":\"\"}}}],\"scattermapbox\":[{\"type\":\"scattermapbox\",\"marker\":{\"colorbar\":{\"outlinewidth\":0,\"ticks\":\"\"}}}],\"scatterternary\":[{\"type\":\"scatterternary\",\"marker\":{\"colorbar\":{\"outlinewidth\":0,\"ticks\":\"\"}}}],\"scattercarpet\":[{\"type\":\"scattercarpet\",\"marker\":{\"colorbar\":{\"outlinewidth\":0,\"ticks\":\"\"}}}],\"carpet\":[{\"aaxis\":{\"endlinecolor\":\"#2a3f5f\",\"gridcolor\":\"white\",\"linecolor\":\"white\",\"minorgridcolor\":\"white\",\"startlinecolor\":\"#2a3f5f\"},\"baxis\":{\"endlinecolor\":\"#2a3f5f\",\"gridcolor\":\"white\",\"linecolor\":\"white\",\"minorgridcolor\":\"white\",\"startlinecolor\":\"#2a3f5f\"},\"type\":\"carpet\"}],\"table\":[{\"cells\":{\"fill\":{\"color\":\"#EBF0F8\"},\"line\":{\"color\":\"white\"}},\"header\":{\"fill\":{\"color\":\"#C8D4E3\"},\"line\":{\"color\":\"white\"}},\"type\":\"table\"}],\"barpolar\":[{\"marker\":{\"line\":{\"color\":\"#E5ECF6\",\"width\":0.5},\"pattern\":{\"fillmode\":\"overlay\",\"size\":10,\"solidity\":0.2}},\"type\":\"barpolar\"}],\"pie\":[{\"automargin\":true,\"type\":\"pie\"}]},\"layout\":{\"autotypenumbers\":\"strict\",\"colorway\":[\"#636efa\",\"#EF553B\",\"#00cc96\",\"#ab63fa\",\"#FFA15A\",\"#19d3f3\",\"#FF6692\",\"#B6E880\",\"#FF97FF\",\"#FECB52\"],\"font\":{\"color\":\"#2a3f5f\"},\"hovermode\":\"closest\",\"hoverlabel\":{\"align\":\"left\"},\"paper_bgcolor\":\"white\",\"plot_bgcolor\":\"#E5ECF6\",\"polar\":{\"bgcolor\":\"#E5ECF6\",\"angularaxis\":{\"gridcolor\":\"white\",\"linecolor\":\"white\",\"ticks\":\"\"},\"radialaxis\":{\"gridcolor\":\"white\",\"linecolor\":\"white\",\"ticks\":\"\"}},\"ternary\":{\"bgcolor\":\"#E5ECF6\",\"aaxis\":{\"gridcolor\":\"white\",\"linecolor\":\"white\",\"ticks\":\"\"},\"baxis\":{\"gridcolor\":\"white\",\"linecolor\":\"white\",\"ticks\":\"\"},\"caxis\":{\"gridcolor\":\"white\",\"linecolor\":\"white\",\"ticks\":\"\"}},\"coloraxis\":{\"colorbar\":{\"outlinewidth\":0,\"ticks\":\"\"}},\"colorscale\":{\"sequential\":[[0.0,\"#0d0887\"],[0.1111111111111111,\"#46039f\"],[0.2222222222222222,\"#7201a8\"],[0.3333333333333333,\"#9c179e\"],[0.4444444444444444,\"#bd3786\"],[0.5555555555555556,\"#d8576b\"],[0.6666666666666666,\"#ed7953\"],[0.7777777777777778,\"#fb9f3a\"],[0.8888888888888888,\"#fdca26\"],[1.0,\"#f0f921\"]],\"sequentialminus\":[[0.0,\"#0d0887\"],[0.1111111111111111,\"#46039f\"],[0.2222222222222222,\"#7201a8\"],[0.3333333333333333,\"#9c179e\"],[0.4444444444444444,\"#bd3786\"],[0.5555555555555556,\"#d8576b\"],[0.6666666666666666,\"#ed7953\"],[0.7777777777777778,\"#fb9f3a\"],[0.8888888888888888,\"#fdca26\"],[1.0,\"#f0f921\"]],\"diverging\":[[0,\"#8e0152\"],[0.1,\"#c51b7d\"],[0.2,\"#de77ae\"],[0.3,\"#f1b6da\"],[0.4,\"#fde0ef\"],[0.5,\"#f7f7f7\"],[0.6,\"#e6f5d0\"],[0.7,\"#b8e186\"],[0.8,\"#7fbc41\"],[0.9,\"#4d9221\"],[1,\"#276419\"]]},\"xaxis\":{\"gridcolor\":\"white\",\"linecolor\":\"white\",\"ticks\":\"\",\"title\":{\"standoff\":15},\"zerolinecolor\":\"white\",\"automargin\":true,\"zerolinewidth\":2},\"yaxis\":{\"gridcolor\":\"white\",\"linecolor\":\"white\",\"ticks\":\"\",\"title\":{\"standoff\":15},\"zerolinecolor\":\"white\",\"automargin\":true,\"zerolinewidth\":2},\"scene\":{\"xaxis\":{\"backgroundcolor\":\"#E5ECF6\",\"gridcolor\":\"white\",\"linecolor\":\"white\",\"showbackground\":true,\"ticks\":\"\",\"zerolinecolor\":\"white\",\"gridwidth\":2},\"yaxis\":{\"backgroundcolor\":\"#E5ECF6\",\"gridcolor\":\"white\",\"linecolor\":\"white\",\"showbackground\":true,\"ticks\":\"\",\"zerolinecolor\":\"white\",\"gridwidth\":2},\"zaxis\":{\"backgroundcolor\":\"#E5ECF6\",\"gridcolor\":\"white\",\"linecolor\":\"white\",\"showbackground\":true,\"ticks\":\"\",\"zerolinecolor\":\"white\",\"gridwidth\":2}},\"shapedefaults\":{\"line\":{\"color\":\"#2a3f5f\"}},\"annotationdefaults\":{\"arrowcolor\":\"#2a3f5f\",\"arrowhead\":0,\"arrowwidth\":1},\"geo\":{\"bgcolor\":\"white\",\"landcolor\":\"#E5ECF6\",\"subunitcolor\":\"white\",\"showland\":true,\"showlakes\":true,\"lakecolor\":\"white\"},\"title\":{\"x\":0.05},\"mapbox\":{\"style\":\"light\"}}},\"xaxis\":{\"anchor\":\"y\",\"domain\":[0.0,1.0],\"title\":{\"text\":\"Time\"},\"tickvals\":[\"00:03\",\"00:48\",\"01:33\",\"02:18\",\"03:03\",\"03:48\",\"16:19\",\"16:28\",\"16:37\",\"16:47\",\"16:56\",\"17:05\",\"18:20\",\"18:29\",\"18:38\",\"18:47\",\"18:56\",\"19:05\",\"19:14\",\"19:24\",\"19:33\",\"19:42\"],\"ticktext\":[\"00:03\",\"00:48\",\"01:33\",\"02:18\",\"03:03\",\"03:48\",\"16:19\",\"16:28\",\"16:37\",\"16:47\",\"16:56\",\"17:05\",\"18:20\",\"18:29\",\"18:38\",\"18:47\",\"18:56\",\"19:05\",\"19:14\",\"19:24\",\"19:33\",\"19:42\"]},\"yaxis\":{\"anchor\":\"x\",\"domain\":[0.0,1.0],\"title\":{\"text\":\"Number of Running Processes\"}},\"legend\":{\"tracegroupgap\":0},\"margin\":{\"t\":60},\"title\":{\"text\":\"Running Processes on 2023-11-14\"},\"plot_bgcolor\":\"#FEF9FF\"},                        {\"responsive\": true}                    ).then(function(){\n                            \nvar gd = document.getElementById('95c0de23-3c93-4d85-a204-bc93dc579f33');\nvar x = new MutationObserver(function (mutations, observer) {{\n        var display = window.getComputedStyle(gd).display;\n        if (!display || display === 'none') {{\n            console.log([gd, 'removed!']);\n            Plotly.purge(gd);\n            observer.disconnect();\n        }}\n}});\n\n// Listen for the removal of the full notebook cells\nvar notebookContainer = gd.closest('#notebook-container');\nif (notebookContainer) {{\n    x.observe(notebookContainer, {childList: true});\n}}\n\n// Listen for the clearing of the current output cell\nvar outputEl = gd.closest('.output');\nif (outputEl) {{\n    x.observe(outputEl, {childList: true});\n}}\n\n                        })                };                });            </script>        </div>"
     },
     "metadata": {},
     "output_type": "display_data"
    }
   ],
   "source": [
    "import pandas as pd\n",
    "import sys\n",
    "import plotly.express as px\n",
    "\n",
    "data = pd.read_csv('Reports/FullReport.csv')\n",
    "\n",
    "data['time'] = pd.to_datetime(data['time'], unit='s')\n",
    "\n",
    "# Ask the user to choose the date\n",
    "user_choice = input(\"Enter 'today' for today's date, or enter a date in YYYY-MM-DD format: \")\n",
    "\n",
    "if user_choice.lower() == 'today':\n",
    "    selected_date = pd.to_datetime('today').date()\n",
    "else:\n",
    "    try:\n",
    "        selected_date = pd.to_datetime(user_choice, format='%Y-%m-%d').date()\n",
    "    except ValueError:\n",
    "        print(\"Invalid date format. Please enter 'today' or a valid date in the format YYYY-MM-DD.\")\n",
    "        sys.exit(1)\n",
    "\n",
    "# Filter data for the selected date\n",
    "selected_data = data[data['time'].dt.date == selected_date]\n",
    "\n",
    "# Now update the 'time' column in the selected_data DataFrame\n",
    "selected_data = selected_data.assign(\n",
    "    time=selected_data['time'].dt.strftime('%H:%M')\n",
    ")\n",
    "\n",
    "# Check if data is available for the selected date\n",
    "if selected_data.empty:\n",
    "    print(f\"No data available for the selected date ({selected_date}). Please choose another date.\")\n",
    "    sys.exit(1)\n",
    "\n",
    "# Choose the number of intervals to display on the X-axis\n",
    "max_intervals = 20\n",
    "\n",
    "# Calculate the step size to skip data points\n",
    "step_size = max(1, len(selected_data) // max_intervals)\n",
    "\n",
    "# Extract the subset of data for X-axis labels\n",
    "x_labels_data = selected_data.iloc[::step_size]\n",
    "\n",
    "# Plotting Battery Percentage with Plotly\n",
    "fig = px.line(selected_data, x='time', y='batteryPercent', labels={'batteryPercent': 'Battery Percentage'})\n",
    "fig.update_traces(line=dict(color='#DCCBC3'))\n",
    "fig.update_layout(\n",
    "    title=f'Battery Percentage on {selected_date.strftime(\"%Y-%m-%d\")}',\n",
    "    xaxis_title='Time',\n",
    "    yaxis_title='Battery Percentage',\n",
    "    xaxis=dict(tickvals=x_labels_data['time'].values, ticktext=x_labels_data['time'].values),\n",
    "    plot_bgcolor='#FEF9FF',\n",
    ")\n",
    "fig.show()\n",
    "\n",
    "# Plotting Memory Usage of Processes with Plotly\n",
    "data_sorted_by_mem = selected_data.sort_values(by='memUsageMB', ascending=False)\n",
    "fig = px.bar(data_sorted_by_mem, x='hungriestProc', y='hungryProcMem', labels={'hungryProcMem': 'Memory Usage (MB)'})\n",
    "fig.update_traces(marker=dict(color='#736CED'))\n",
    "fig.update_layout(\n",
    "    title=f'Memory Usage of Processes on {selected_date.strftime(\"%Y-%m-%d\")}',\n",
    "    xaxis_title='Processes',\n",
    "    yaxis_title='Memory Usage (MB)',\n",
    "    xaxis=dict(tickangle=45),\n",
    "    barmode='relative',\n",
    "    barnorm='percent',\n",
    "    plot_bgcolor='#FEF9FF',\n",
    ")\n",
    "fig.show()\n",
    "\n",
    "# Plotting Network Activity with Plotly\n",
    "fig = px.line(selected_data, x='time', y='bytesSent', labels={'value': 'Bytes'}, line_shape='linear')\n",
    "fig.add_scatter(x=selected_data['time'], y=selected_data['bytesReceived'], mode='lines', name='bytesReceived', line=dict(color='#D4C1EC'))\n",
    "fig.add_scatter(x=selected_data['time'], y=selected_data['bytesSent'], mode='lines', name='bytesSent', line=dict(color='#998f8b'))\n",
    "fig.update_layout(\n",
    "    title=f'Network Activity on {selected_date.strftime(\"%Y-%m-%d\")}',\n",
    "    xaxis_title='Time',\n",
    "    yaxis_title='Bytes',\n",
    "    xaxis=dict(tickvals=x_labels_data['time'].values, ticktext=x_labels_data['time'].values),\n",
    "    plot_bgcolor='#FEF9FF',\n",
    ")\n",
    "fig.show()\n",
    "\n",
    "\n",
    "# Plotting Running Processes with Plotly\n",
    "fig = px.line(selected_data, x='time', y='runningProc', labels={'runningProc': 'Number of Running Processes'})\n",
    "fig.update_traces(line=dict(color='#BAB0ED'))\n",
    "fig.update_layout(\n",
    "    title=f'Running Processes on {selected_date.strftime(\"%Y-%m-%d\")}',\n",
    "    xaxis_title='Time',\n",
    "    yaxis_title='Number of Running Processes',\n",
    "    xaxis=dict(tickvals=x_labels_data['time'].values, ticktext=x_labels_data['time'].values),\n",
    "    plot_bgcolor='#FEF9FF',\n",
    ")\n",
    "fig.show()\n"
   ],
   "metadata": {
    "collapsed": false,
    "pycharm": {
     "name": "#%%\n"
    }
   }
  }
 ],
 "metadata": {
  "kernelspec": {
   "display_name": "Python 3",
   "language": "python",
   "name": "python3"
  },
  "language_info": {
   "codemirror_mode": {
    "name": "ipython",
    "version": 2
   },
   "file_extension": ".py",
   "mimetype": "text/x-python",
   "name": "python",
   "nbconvert_exporter": "python",
   "pygments_lexer": "ipython2",
   "version": "2.7.6"
  }
 },
 "nbformat": 4,
 "nbformat_minor": 0
}